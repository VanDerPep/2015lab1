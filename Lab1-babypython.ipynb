{
 "cells": [
  {
   "cell_type": "markdown",
   "metadata": {},
   "source": [
    "# Python and Friends\n",
    "\n",
    "This is a very quick run-through of some python syntax"
   ]
  },
  {
   "cell_type": "code",
   "execution_count": 1,
   "metadata": {},
   "outputs": [],
   "source": [
    "# The %... is an iPython thing, and is not part of the Python language.\n",
    "# In this case we're just telling the plotting library to draw things on\n",
    "# the notebook, instead of on a separate window.\n",
    "%matplotlib inline \n",
    "#this line above prepares IPython notebook for working with matplotlib\n",
    "\n",
    "# See all the \"as ...\" contructs? They're just aliasing the package names.\n",
    "# That way we can call methods like plt.plot() instead of matplotlib.pyplot.plot().\n",
    "\n",
    "import numpy as np # imports a fast numerical programming library\n",
    "import scipy as sp #imports stats functions, amongst other things\n",
    "import matplotlib as mpl # this actually imports matplotlib\n",
    "import matplotlib.cm as cm #allows us easy access to colormaps\n",
    "import matplotlib.pyplot as plt #sets up plotting under plt\n",
    "import pandas as pd #lets us handle data as dataframes\n",
    "#sets up pandas table display\n",
    "pd.set_option('display.width', 500)\n",
    "pd.set_option('display.max_columns', 100)\n",
    "pd.set_option('display.notebook_repr_html', True)\n",
    "import seaborn as sns #sets up styles and gives us more plotting options"
   ]
  },
  {
   "cell_type": "markdown",
   "metadata": {},
   "source": [
    "## The Python Language\n",
    "\n",
    "Lets talk about using Python as a calculator..."
   ]
  },
  {
   "cell_type": "code",
   "execution_count": 2,
   "metadata": {},
   "outputs": [
    {
     "data": {
      "text/plain": "3"
     },
     "execution_count": 2,
     "metadata": {},
     "output_type": "execute_result"
    }
   ],
   "source": [
    "1+2"
   ]
  },
  {
   "cell_type": "markdown",
   "metadata": {},
   "source": [
    "Notice integer division and floating-point error below!"
   ]
  },
  {
   "cell_type": "code",
   "execution_count": 3,
   "metadata": {},
   "outputs": [
    {
     "data": {
      "text/plain": "(0.5, 0.5, 9.600000000000001)"
     },
     "execution_count": 3,
     "metadata": {},
     "output_type": "execute_result"
    }
   ],
   "source": [
    "1/2,1.0/2.0,3*3.2"
   ]
  },
  {
   "cell_type": "markdown",
   "metadata": {},
   "source": [
    "Here is how we can print things. Something on the last line by itself is returned as the output value."
   ]
  },
  {
   "cell_type": "code",
   "execution_count": 5,
   "metadata": {},
   "outputs": [
    {
     "name": "stdout",
     "output_type": "stream",
     "text": "4.0 \n 1.6666666666666667\n"
    },
    {
     "data": {
      "text/plain": "1.6666666666666667"
     },
     "execution_count": 5,
     "metadata": {},
     "output_type": "execute_result"
    }
   ],
   "source": [
    "print (1+3.0,\"\\n\",5/3.0)\n",
    "5/3"
   ]
  },
  {
   "cell_type": "markdown",
   "metadata": {},
   "source": [
    "We can obtain the type of a variable, and use boolean comparisons tontest these types."
   ]
  },
  {
   "cell_type": "code",
   "execution_count": 7,
   "metadata": {},
   "outputs": [
    {
     "name": "stdout",
     "output_type": "stream",
     "text": "0.8333333333333334\n<class 'float'>\n"
    }
   ],
   "source": [
    "a=5.0/6.0\n",
    "print(a)\n",
    "print (type(a))"
   ]
  },
  {
   "cell_type": "code",
   "execution_count": 21,
   "metadata": {},
   "outputs": [
    {
     "ename": "AttributeError",
     "evalue": "module 'types' has no attribute 'FloatType'",
     "output_type": "error",
     "traceback": [
      "\u001b[1;31m---------------------------------------------------------------------------\u001b[0m",
      "\u001b[1;31mAttributeError\u001b[0m                            Traceback (most recent call last)",
      "\u001b[1;32m<ipython-input-21-422f23b1ff8c>\u001b[0m in \u001b[0;36m<module>\u001b[1;34m\u001b[0m\n\u001b[0;32m      1\u001b[0m \u001b[1;32mimport\u001b[0m \u001b[0mtypes\u001b[0m\u001b[1;33m\u001b[0m\u001b[1;33m\u001b[0m\u001b[0m\n\u001b[1;32m----> 2\u001b[1;33m \u001b[0mtype\u001b[0m\u001b[1;33m(\u001b[0m\u001b[0ma\u001b[0m\u001b[1;33m)\u001b[0m\u001b[1;33m==\u001b[0m\u001b[0mtypes\u001b[0m\u001b[1;33m.\u001b[0m\u001b[0mFloatType\u001b[0m\u001b[1;33m\u001b[0m\u001b[1;33m\u001b[0m\u001b[0m\n\u001b[0m",
      "\u001b[1;31mAttributeError\u001b[0m: module 'types' has no attribute 'FloatType'"
     ]
    }
   ],
   "source": [
    "import types\n",
    "type(a)==types.FloatType"
   ]
  },
  {
   "cell_type": "code",
   "execution_count": 22,
   "metadata": {},
   "outputs": [
    {
     "ename": "AttributeError",
     "evalue": "module 'types' has no attribute 'IntType'",
     "output_type": "error",
     "traceback": [
      "\u001b[1;31m---------------------------------------------------------------------------\u001b[0m",
      "\u001b[1;31mAttributeError\u001b[0m                            Traceback (most recent call last)",
      "\u001b[1;32m<ipython-input-22-29b77d8f3f0d>\u001b[0m in \u001b[0;36m<module>\u001b[1;34m\u001b[0m\n\u001b[1;32m----> 1\u001b[1;33m \u001b[0mtype\u001b[0m\u001b[1;33m(\u001b[0m\u001b[0ma\u001b[0m\u001b[1;33m)\u001b[0m\u001b[1;33m==\u001b[0m\u001b[0mtypes\u001b[0m\u001b[1;33m.\u001b[0m\u001b[0mIntType\u001b[0m\u001b[1;33m\u001b[0m\u001b[1;33m\u001b[0m\u001b[0m\n\u001b[0m",
      "\u001b[1;31mAttributeError\u001b[0m: module 'types' has no attribute 'IntType'"
     ]
    }
   ],
   "source": [
    "type(a)==types.IntType"
   ]
  },
  {
   "cell_type": "markdown",
   "metadata": {},
   "source": [
    "## Python and Iteration (and files)\n",
    "\n",
    "In working with python I always remember: a python is a duck.\n",
    "\n",
    "What I mean is, python has a certain way of doing things. For example lets call one of these ways listiness. Listiness works on lists, dictionaries, files, and a general notion of something called an iterator.\n",
    "\n",
    "But first, lets introduce the notion of a comprehension. Its a way of constructing a list"
   ]
  },
  {
   "cell_type": "code",
   "execution_count": 23,
   "metadata": {},
   "outputs": [
    {
     "data": {
      "text/plain": "[1, 4, 9, 16, 25]"
     },
     "execution_count": 23,
     "metadata": {},
     "output_type": "execute_result"
    }
   ],
   "source": [
    "alist=[1,2,3,4,5]\n",
    "asquaredlist=[i*i for i in alist]\n",
    "asquaredlist"
   ]
  },
  {
   "cell_type": "markdown",
   "metadata": {},
   "source": [
    "Python has some nifty functions like `enumerate` and `zip`. The former gives a list of tuples with each tuple of the form `(index, value)`, while the latter takes elements from each list and outs them together into a tuple, thus creating a list of tuples. The first is a duck, but the second isnt."
   ]
  },
  {
   "cell_type": "code",
   "execution_count": 26,
   "metadata": {},
   "outputs": [
    {
     "name": "stdout",
     "output_type": "stream",
     "text": "<enumerate object at 0x0000019792758408> <zip object at 0x00000197926BF7C8>\n"
    }
   ],
   "source": [
    "enumerate(asquaredlist),zip(alist, asquaredlist)"
   ]
  },
  {
   "cell_type": "markdown",
   "metadata": {},
   "source": [
    "Someone realized that design flaw and created izip."
   ]
  },
  {
   "cell_type": "code",
   "execution_count": 27,
   "metadata": {},
   "outputs": [
    {
     "ename": "ImportError",
     "evalue": "cannot import name 'izip' from 'itertools' (unknown location)",
     "output_type": "error",
     "traceback": [
      "\u001b[1;31m---------------------------------------------------------------------------\u001b[0m",
      "\u001b[1;31mImportError\u001b[0m                               Traceback (most recent call last)",
      "\u001b[1;32m<ipython-input-27-d5704e9f2a06>\u001b[0m in \u001b[0;36m<module>\u001b[1;34m\u001b[0m\n\u001b[1;32m----> 1\u001b[1;33m \u001b[1;32mfrom\u001b[0m \u001b[0mitertools\u001b[0m \u001b[1;32mimport\u001b[0m \u001b[0mizip\u001b[0m\u001b[1;33m\u001b[0m\u001b[1;33m\u001b[0m\u001b[0m\n\u001b[0m\u001b[0;32m      2\u001b[0m \u001b[0mizip\u001b[0m\u001b[1;33m(\u001b[0m\u001b[0malist\u001b[0m\u001b[1;33m,\u001b[0m \u001b[0masquaredlist\u001b[0m\u001b[1;33m)\u001b[0m\u001b[1;33m\u001b[0m\u001b[1;33m\u001b[0m\u001b[0m\n",
      "\u001b[1;31mImportError\u001b[0m: cannot import name 'izip' from 'itertools' (unknown location)"
     ]
    }
   ],
   "source": [
    "from itertools import izip\n",
    "izip(alist, asquaredlist)"
   ]
  },
  {
   "cell_type": "code",
   "execution_count": 29,
   "metadata": {},
   "outputs": [
    {
     "name": "stdout",
     "output_type": "stream",
     "text": "<enumerate object at 0x0000019792753D18>\n"
    }
   ],
   "source": [
    "print (enumerate(asquaredlist))"
   ]
  },
  {
   "cell_type": "code",
   "execution_count": 30,
   "metadata": {},
   "outputs": [
    {
     "data": {
      "text/plain": "[(0, 1), (1, 4), (2, 9), (3, 16), (4, 25)]"
     },
     "execution_count": 30,
     "metadata": {},
     "output_type": "execute_result"
    }
   ],
   "source": [
    "[k for k in enumerate(asquaredlist)]"
   ]
  },
  {
   "cell_type": "markdown",
   "metadata": {},
   "source": [
    "Open files behave like lists too! Here we get each line in the file and find its length, using the comprehension syntax to put these lengths into a big list."
   ]
  },
  {
   "cell_type": "code",
   "execution_count": 32,
   "metadata": {},
   "outputs": [
    {
     "name": "stdout",
     "output_type": "stream",
     "text": "1, 7, 9, 1, 5, 8, 1, 7, 24, 43, 23, 1, 5, 18, 1, 7, 42, 24, 1, 5, 27, 1, 7, 46, 1, 5, 6, 1, 7, 26, 45, 43, 47, 48, 40, 42, 50, 57, 40, 41, 40, 36, 52, 42, 1, 5, 7, 1, 7, 44, 1, 5, 8, 1, 7, 40, 44, 1, 5, 48, 39, 25, 1, 7, 17, 46, 41, 50, 45, 48, 35, 43, 45, 21, 1, 5, 21, 12, 1, 7, 44, 53, 44, 40, 44, 40, 40, 44, 42, 44, 18, 39, 47, 43, 36, 21, 44, 46, 35, 37, 40, 39, 38, 39, 47, 42, 40, 42, 46, 40, 47, 20, 43, 49, 40, 36, 42, 38, 41, 42, 36, 38, 39, 46, 47, 45, 48, 41, 40, 35, 1, 8, 1, 5, 46, 50, 42, 40, 47, 41, 33, 41, 50, 41, 41, 40, 45, 25, 45, 38, 49, 46, 1, 11, 1, 42, 35, 16, 1, 5, 30, 1, 5, 25, 1, 5, 29, 1, 5, 10, 1, 5, 33, 1, 5, 38, 1, 31, 1, 5, 25, 1, 5, 20, 1, 5, 14, 1, 5, 23, 1, 5, 22, 1, 5, 27, 1, 5, 16, 1, 5, 54, 22, 1, 14, 24, 1, 5, 48, 26, 1, 5, 51, 17, 1, 5, 34, 42, 44, 53, 40, 42, 24, 1, 5, 48, 1, 5, 37, 22, 1, 5, 29, 1, 5, 46, 51, 45, 44, 48, 44, 26, 1, 5, 29, 1, 5, 46, 1, 14, 22, 1, 5, 18, 1, 5, 10, 16, 1, 5, 26, 1, 5, 15, 1, 5, 33, 1, 5, 31, 1, 7, 18, 1, 5, 57, 51, 18, 1, 5, 27, 1, 5, 43, 19, 1, 7, 18, 1, 5, 46, 24, 40, 44, 19, 1, 7, 18, 1, 5, 54, 50, 1, 5, 47, 1, 5, 45, 52, 39, 12, 43, 43, 44, 34, 48, 47, 43, 59, 61, 38, 47, 47, 7, 1, 7, 18, 1, 5, 46, 41, 36, 50, 52, 45, 43, 40, 30, 1, 10, 1, 1, 1, 8, 1, 37, 1, 31, 1, 5, 47, 1, 5, 17, 1, 5, 47, 38, 18, 1, 5, 26, 1, 5, 49, 45, 51, 44, 45, 47, 44, 52, 45, 46, 1, 5, 24, 1, 5, 49, 39, 42, 47, 41, 45, 39, 22, 1, 5, 20, 1, 5, 49, 30, 1, 5, 35, 1, 5, 47, 41, 33, 58, 42, 40, 35, 20, 1, 5, 21, 1, 5, 30, 1, 5, 13, 19, 1, 5, 29, 40, 42, 50, 10, 45, 43, 44, 40, 49, 40, 20, 1, 5, 20, 1, 5, 66, 63, 1, 5, 55, 12, 1, 5, 43, 49, 37, 55, 48, 44, 42, 38, 13, 49, 39, 41, 37, 37, 45, 1, 5, 17, 1, 5, 31, 1, 5, 14, 1, 5, 37, 1, 5, 18, 1, 5, 27, 1, 5, 15, 1, 5, 10, 1, 17, 1, 17, 1, 37, 1, 5, 42, 1, 5, 31, 1, 5, 40, 45, 44, 41, 50, 38, 37, 42, 1, 5, 18, 1, 5, 24, 24, 1, 5, 14, 1, 5, 43, 43, 44, 36, 40, 40, 47, 41, 39, 45, 44, 44, 45, 42, 1, 5, 43, 34, 39, 46, 35, 45, 49, 1, 5, 43, 35, 18, 1, 5, 24, 46, 50, 50, 33, 41, 37, 45, 56, 44, 1, 10, 1, 1, 1, 32, 1, 57, 1, 6, 44, 43, 40, 44, 42, 42, 42, 53, 43, 38, 50, 50, 47, 39, 44, 40, 49, 38, 1, 7, 44, 43, 47, 40, 39, 39, 42, 30, 1, 5, 20, 46, 43, 18, 1, 6, 14, 46, 40, 17, 1, 6, 45, 1, 7, 45, 37, 43, 43, 1, 6, 44, 29, 1, 7, 10, 1, 57, 1, 18, 1, 5, 43, 23, 1, 6, 46, 1, 5, 44, 35, 40, 44, 38, 42, 35, 1, 6, 42, 1, 5, 42, 48, 1, 6, 45, 1, 17, 1, 43, 49, 1, 7, 39, 47, 1, 6, 25, 1, 48, 1, 26, 46, 1, 6, 43, 40, 43, 40, 40, 49, 41, 46, 42, 43, 38, 48, 39, 47, 45, 41, 40, 17, 44, 44, 40, 25, 1, 6, 18, 44, 38, 49, 48, 19, 1, 34, 1, 5, 31, 37, 38, 50, 48, 45, 50, 41, 43, 42, 17, 1, 7, 28, 1, 5, 36, 48, 43, 40, 43, 43, 41, 42, 41, 9, 47, 38, 45, 9, 59, 12, 60, 34, 9, 43, 1, 7, 30, 1, 5, 45, 9, 34, 35, 29, 29, 62, 66, 11, 66, 14, 48, 38, 47, 23, 1, 6, 17, 19, 1, 5, 25, 1, 6, 37, 1, 5, 49, 45, 41, 46, 43, 40, 44, 44, 48, 42, 45, 49, 46, 40, 46, 43, 39, 43, 48, 39, 21, 1, 6, 24, 1, 7, 24, 1, 5, 51, 39, 26, 1, 6, 17, 1, 5, 43, 35, 38, 46, 19, 1, 6, 27, 1, 5, 47, 19, 1, 7, 19, 1, 5, 46, 35, 40, 42, 36, 29, 1, 6, 16, 1, 7, 52, 1, 5, 34, 45, 1, 38, 1, 25, 1, 30, 1, 5, 19, 1, 5, 25, 1, 5, 37, 1, 5, 16, 1, 5, 39, 1, 5, 17, 1, 5, 60, 28, 1, 5, 27, 1, 5, 64, 31, 1, 5, 17, 1, 5, 63, 51, 1, 5, 66, 63, 64, 64, 15, 1, 5, 21, 1, 5, 29, 1, 5, 13, 1, 5, 43, 1, 5, 62, 60, 60, 64, 66, 61, 63, 1, 5, 63, 39, 1, 5, 15, 1, 5, 64, 63, 63, 66, 66, 17, 1, 5, 56, 66, 6, 1, 5, 24, 1, 5, 25, 1, 38, 1, 5, 45, 1, 5, 34, 1, 17, 1, 6, 18, 1, 5, 19, 1, 5, 60, 40, 1, 5, 42, 1, 6, 37, 45, 1, 5, 27, 1, 5, 18, 1, 5, 55, 9, 1, 6, 24, 1, 5, 55, 27, 1, 5, 50, 1, 5, 57, 61, 63, 8, 1, 6, 17, 1, 5, 20, 1, 5, 23, 1, 5, 59, 42, 1, 5, 26, 1, 5, 61, 55, 1, 5, 64, 6, 1, 5, 60, 60, 1, 6, 62, 47, 1, 5, 32, 1, 5, 63, 29, 1, 5, 63, 63, 22, 1, 16, 21, 1, 5, 56, 61, 64, 22, 1, 5, 42, 1, 5, 61, 65, 57, 63, 1, 6, 29, 1, 5, 58, 66, 64, 19, 1, 5, 22, 1, 5, 62, 58, 63, 65, 37, 1, 5, 33, 1, 5, 64, 9, 1, 6, 27, 1, 5, 59, 59, 65, 63, 63, 66, 65, 63, 64, 59, 61, 63, 66, 65, 52, 1, 5, 49, 1, 5, 59, 1, 5, 58, 64, 61, 1, 5, 60, 66, 64, 62, 62, 62, 6, 1, 5, 55, 24, 1, 5, 53, 45, 1, 5, 56, 12, 1, 5, 60, 28, 1, 5, 26, 1, 5, 34, 1, 5, 61, 65, 64, 66, 64, 26, 1, 5, 57, 62, 56, 66, 65, 30, 1, 5, 63, 61, 65, 31, 1, 5, 15, 1, 6, 49, 1, 5, 27, 1, 5, 54, 1, 5, 61, 64, 66, 66, 30, 1, 31, 1, 6, 23, 1, 5, 62, 63, 62, 59, 63, 30, 1, 6, 23, 1, 5, 60, 28, 1, 18, 1, 5, 29, 1, 5, 66, 65, 1, 5, 63, 22, 1, 5, 66, 52, 1, 5, 34, 1, 5, 63, 8, 1, 5, 37, 1, 5, 12, 1, 5, 18, 1, 5, 35, 1, 5, 58, 58, 65, 63, 66, 14, 1, 5, 57, 1, 5, 31, 1, 5, 6, 36, 37, 1, 1, 5, 31, 1, 5, 37, 1, 5, 59, 19, 1, 5, 23, 1, 5, 29, 1, 5, 6, 25, 20, 44, 64, 27, 1, 30, 1, 63, 61, 59, 60, 62, 61, 66, 59, 63, 50, 1, 8, 22, 1, 5, 62, 64, 65, 66, 66, 63, 63, 60, 61, 66, 66, 63, 60, 1, 48, 1, 42, 1, 45, 48, 47, 52, 43, 43, 52, 49, 44, 53, 43, 50, 31, 1, 17, 1, 5, 59, 12, 1, 8, 22, 52, 47, 42, 50, 49, 52, 47, 48, 51, 41, 50, 43, 47, 16, 44, 51, 48, 47, 51, 43, 43, 46, 50, 25, 51, 42, 52, 52, 28, 1, 5, 18, 1, 5, 63, 64, 11, 1, 8, 48, 1, 5, 20, 1, 5, 37, 1, 8, 52, 45, 48, 44, 48, 52, 58, 48, 45, 50, 49, 48, 53, 28, 1, 5, 63, 26, 1, 5, 61, 61, 66, 64, 50, 1, 5, 52, 1, 5, 52, 63, 64, 27, 1, 5, 12, 1, 5, 50, 1, 54, 1, 59, 10, 1, 8, 13, 1, 5, 59, 65, 28, 1, 8, 13, 1, 5, 57, 1, 21, 1, 60, 36, 1, 5, 14, 1, 39, 1, 5, 23, 16, 40, 43, 41, 43, 44, 44, 47, 48, 12, 39, 47, 42, 49, 47, 41, 42, 37, 7, 39, 44, 40, 39, 41, 45, 45, 54, 47, 45, 39, 39, 42, 48, 55, 14, 43, 43, 43, 47, 37, 12, 48, 42, 38, 42, 41, 49, 52, 44, 43, 46, 46, 43, 45, 40, 42, 40, 47, 47, 1, 8, 1, 1, 1, 1, 9, 1, 31, 1, 56, 15, 1, 6, 42, 44, 41, 37, 1, 5, 45, 47, 1, 6, 42, 40, 46, 19, 1, 7, 25, 1, 5, 23, 1, 6, 42, 1, 5, 42, 24, 1, 7, 18, 16, 1, 5, 43, 49, 40, 41, 41, 31, 1, 5, 16, 46, 28, 1, 6, 47, 27, 41, 44, 1, 5, 19, 1, 39, 1, 6, 30, 44, 41, 17, 42, 47, 41, 37, 41, 26, 1, 7, 20, 38, 43, 51, 40, 22, 1, 5, 22, 1, 14, 1, 5, 50, 60, 41, 49, 51, 34, 19, 1, 6, 27, 54, 50, 44, 41, 16, 1, 5, 44, 1, 28, 1, 16, 1, 5, 46, 42, 44, 43, 48, 38, 47, 44, 44, 52, 49, 44, 40, 37, 49, 50, 45, 40, 42, 39, 50, 39, 47, 43, 41, 44, 40, 45, 38, 48, 42, 44, 44, 41, 27, 1, 5, 14, 42, 1, 5, 38, 1, 5, 38, 39, 30, 1, 5, 11, 24, 1, 5, 47, 48, 50, 40, 46, 16, 1, 5, 24, 1, 5, 9, 1, 5, 14, 1, 5, 26, 1, 5, 61, 26, 1, 5, 63, 1, 5, 57, 64, 65, 54, 1, 5, 41, 1, 5, 54, 63, 5, 1, 5, 25, 1, 5, 56, 64, 66, 65, 62, 66, 65, 59, 8, 1, 5, 18, 1, 5, 58, 38, 1, 5, 32, 1, 5, 64, 65, 63, 62, 62, 10, 1, 5, 32, 1, 5, 58, 66, 65, 66, 62, 65, 28, 1, 8, 1, 5, 41, 58, 43, 44, 51, 42, 41, 46, 49, 47, 36, 47, 1, 30, 1, 6, 43, 51, 52, 41, 42, 43, 30, 50, 41, 41, 35, 44, 47, 46, 1, 5, 39, 41, 47, 44, 45, 40, 43, 46, 46, 46, 42, 30, 1, 6, 16, 45, 1, 10, 1, 1, 1, 32, 1, 36, 1, 5, 57, 63, 64, 59, 61, 51, 64, 66, 66, 64, 66, 51, 1, 10, 23, 1, 5, 61, 65, 62, 65, 62, 63, 63, 65, 59, 61, 64, 64, 58, 63, 59, 63, 24, 1, 10, 57, 1, 5, 61, 62, 62, 63, 64, 63, 16, 1, 18, 1, 49, 1, 57, 1, 5, 39, 1, 5, 28, 1, 17, 1, 34, 1, 15, 18, 1, 24, 1, 5, 19, 1, 17, 1, 5, 35, 1, 5, 37, 38, 1, 5, 19, 1, 5, 29, 43, 44, 59, 45, 42, 49, 47, 43, 49, 48, 41, 51, 48, 46, 48, 49, 46, 45, 42, 45, 46, 46, 39, 42, 38, 40, 32, 43, 40, 44, 27, 1, 5, 15, 51, 43, 1, 5, 45, 17, 1, 65, 40, 1, 6, 29, 1, 5, 61, 44, 1, 6, 61, 6, 1, 5, 66, 20, 1, 5, 53, 1, 5, 20, 1, 5, 63, 11, 1, 5, 64, 19, 1, 5, 43, 1, 7, 40, 1, 5, 47, 1, 5, 40, 1, 5, 31, 32, 1, 5, 13, 1, 5, 31, 1, 5, 13, 1, 5, 38, 1, 5, 26, 1, 5, 50, 1, 5, 18, 1, 5, 9, 1, 5, 24, 1, 5, 8, 1, 5, 13, 1, 5, 59, 64, 21, 1, 5, 37, 1, 5, 61, 65, 65, 66, 61, 56, 1, 40, 1, 61, 59, 58, 56, 62, 65, 65, 60, 63, 66, 42, 1, 10, 1, 5, 26, 1, 5, 52, 1, 5, 51, 1, 18, 1, 5, 63, 18, 1, 5, 38, 1, 5, 60, 49, 1, 5, 52, 1, 5, 32, 35, 34, 1, 5, 43, 1, 5, 21, 1, 5, 17, 1, 28, 1, 9, 48, 46, 43, 49, 48, 38, 1, 10, 38, 43, 41, 46, 45, 42, 42, 35, 48, 40, 51, 55, 1, 9, 49, 47, 47, 41, 26, 1, 10, 22, 46, 37, 46, 1, 5, 29, 1, 10, 40, 47, 37, 38, 1, 9, 43, 39, 36, 37, 50, 39, 35, 44, 41, 43, 36, 45, 47, 46, 48, 53, 42, 49, 50, 44, 40, 45, 42, 32, 37, 39, 39, 51, 42, 50, 1, 10, 45, 45, 39, 41, 42, 45, 46, 34, 1, 5, 42, 1, 9, 48, 47, 28, 10, 1, 10, 22, 43, 1, 8, 1, 5, 31, 1, 7, 38, 1, 5, 29, 1, 6, 55, 1, 5, 60, 7, 1, 6, 27, 1, 5, 57, 62, 64, 60, 65, 13, 1, 18, 1, 42, 1, 5, 32, 1, 5, 60, 22, 1, 5, 37, 1, 5, 50, 1, 5, 25, 1, 5, 61, 63, 21, 1, 5, 57, 45, 48, 51, 36, 37, 1, 44, 1, 5, 63, 61, 65, 1, 5, 16, 1, 5, 32, 1, 7, 19, 1, 5, 20, 1, 6, 27, 1, 5, 24, 1, 37, 1, 5, 39, 29, 47, 31, 65, 61, 59, 1, 5, 14, 1, 5, 21, 37, 31, 40, 27, 1, 5, 23, 1, 5, 58, 23, 1, 5, 20, 1, 5, 34, 1, 5, 26, 1, 5, 50, 40, 44, 18, 1, 38, 1, 6, 44, 1, 5, 22, 1, 6, 16, 1, 5, 22, 1, 6, 47, 1, 5, 17, 1, 6, 33, 1, 5, 62, 61, 33, 1, 6, 60, 30, 1, 5, 28, 1, 6, 60, 21, 1, 5, 17, 1, 6, 60, 64, 61, 33, 1, 5, 15, 1, 6, 15, 1, 5, 63, 64, 64, 7, 1, 5, 56, 26, 1, 5, 64, 49, 1, 5, 63, 1, 5, 59, 23, 1, 5, 31, 1, 5, 50, 1, 5, 63, 62, 13, 1, 5, 25, 1, 5, 61, 32, 1, 5, 63, 7, 1, 40, 1, 66, 65, 13, 1, 6, 62, 1, 5, 61, 1, 6, 19, 1, 5, 12, 1, 6, 22, 1, 5, 18, 1, 6, 33, 1, 5, 55, 62, 62, 1, 6, 58, 20, 1, 5, 60, 63, 62, 63, 62, 64, 64, 25, 1, 18, 1, 20, 1, 5, 56, 1, 5, 59, 1, 5, 43, 1, 5, 30, 1, 5, 28, 1, 5, 17, 1, 5, 19, 1, 5, 62, 40, 1, 5, 15, 1, 8, 1, 5, 26, 1, 17, 1, 21, 1, 40, 1, 42, 52, 54, 39, 50, 43, 40, 32, 43, 44, 38, 44, 1, 8, 1, 1, 1, 33, 1, 45, 1, 6, 43, 49, 43, 40, 39, 38, 21, 1, 6, 27, 35, 36, 38, 1, 5, 39, 46, 44, 44, 40, 42, 45, 42, 48, 49, 41, 41, 45, 1, 6, 44, 40, 32, 1, 14, 18, 1, 24, 1, 18, 1, 5, 44, 36, 55, 42, 49, 49, 49, 38, 26, 1, 6, 22, 1, 17, 1, 44, 42, 37, 40, 44, 42, 44, 43, 49, 46, 47, 39, 47, 39, 43, 46, 48, 43, 47, 43, 44, 40, 44, 42, 41, 46, 48, 46, 44, 42, 40, 42, 43, 44, 56, 40, 17, 1, 22, 1, 16, 1, 5, 42, 46, 46, 41, 43, 11, 41, 42, 50, 49, 47, 47, 40, 45, 4, 45, 41, 42, 39, 40, 50, 45, 43, 42, 1, 8, 1, 31, 1, 6, 43, 43, 1, 8, 1, 1, 1, 38, 1, 28, 1, 5, 49, 54, 52, 46, 29, 1, 5, 34, 1, 7, 18, 43, 1, 34, 1, 16, 1, 5, 32, 1, 7, 44, 1, 5, 42, 1, 7, 44, 1, 5, 43, 1, 7, 22, 1, 5, 23, 1, 7, 20, 1, 5, 25, 50, 48, 1, 7, 49, 1, 5, 51, 37, 42, 1, 7, 46, 16, 1, 5, 38, 1, 5, 25, 24, 1, 34, 1, 5, 25, 1, 18, 1, 7, 27, 1, 5, 33, 1, 24, 1, 7, 40, 1, 5, 44, 43, 1, 7, 16, 1, 5, 27, 47, 15, 46, 46, 51, 45, 35, 39, 44, 1, 7, 50, 29, 1, 5, 12, 43, 43, 44, 46, 42, 39, 40, 46, 38, 43, 28, 1, 7, 17, 47, 1, 5, 44, 45, 42, 45, 43, 34, 38, 34, 42, 38, 51, 43, 47, 47, 44, 41, 47, 47, 53, 52, 41, 43, 40, 48, 45, 45, 47, 39, 19, 46, 42, 39, 44, 45, 42, 25, 1, 7, 25, 42, 45, 31, 1, 5, 17, 38, 47, 22, 1, 7, 24, 45, 23, 1, 5, 26, 45, 41, 39, 44, 26, 1, 7, 9, 1, 5, 32, 1, 15, 1, 43, 55, 1, 7, 16, 1, 5, 41, 45, 44, 8, 1, 7, 31, 43, 41, 45, 45, 22, 1, 5, 26, 1, 7, 25, 38, 47, 45, 44, 44, 41, 41, 45, 1, 5, 45, 51, 47, 42, 41, 50, 1, 7, 27, 1, 5, 26, 1, 7, 39, 1, 5, 26, 1, 7, 27, 1, 5, 46, 37, 49, 1, 14, 1, 7, 40, 31, 20, 1, 5, 9, 48, 48, 43, 45, 46, 45, 47, 46, 43, 44, 43, 44, 48, 40, 39, 44, 1, 7, 45, 1, 5, 37, 40, 44, 37, 45, 40, 41, 36, 40, 39, 44, 47, 44, 46, 40, 46, 24, 44, 42, 43, 40, 46, 34, 45, 26, 1, 7, 17, 1, 5, 42, 43, 48, 42, 50, 39, 38, 48, 47, 41, 45, 37, 37, 45, 40, 30, 1, 7, 45, 46, 27, 1, 5, 34, 1, 7, 7, 36, 1, 5, 52, 45, 46, 40, 39, 48, 44, 47, 45, 31, 45, 45, 48, 41, 45, 20, 1, 51, 1, 1, 1, 8, 1, 31, 1, 51, 1, 6, 53, 49, 19, 1, 7, 40, 1, 47, 1, 45, 1, 6, 33, 1, 7, 43, 42, 41, 44, 41, 25, 1, 6, 14, 43, 39, 38, 46, 40, 53, 45, 43, 39, 39, 44, 1, 7, 39, 42, 32, 46, 1, 6, 23, 44, 47, 39, 48, 1, 41, 1, 49, 39, 50, 48, 44, 1, 39, 1, 50, 42, 46, 41, 37, 50, 42, 39, 1, 10, 1, 38, 1, 16, 1, 5, 15, 1, 15, 31, 1, 5, 52, 1, 38, 1, 5, 49, 1, 5, 43, 1, 5, 48, 27, 1, 5, 19, 1, 5, 14, 1, 5, 63, 66, 11, 1, 5, 35, 1, 5, 60, 63, 63, 65, 64, 7, 1, 5, 31, 1, 5, 59, 1, 5, 62, 10, 1, 5, 62, 23, 1, 6, 18, 1, 5, 54, 1, 10, 1, 1, 1, 39, 1, 23, 1, 6, 46, 46, 43, 40, 48, 54, 52, 39, 43, 37, 15, 1, 21, 1, 29, 1, 5, 42, 24, 1, 6, 17, 1, 5, 50, 1, 6, 21, 1, 5, 36, 1, 33, 1, 6, 31, 1, 5, 11, 1, 6, 18, 1, 5, 52, 64, 64, 65, 63, 9, 1, 6, 12, 1, 5, 62, 40, 1, 6, 29, 1, 5, 61, 22, 1, 6, 19, 1, 5, 63, 65, 64, 27, 1, 6, 41, 1, 5, 28, 1, 21, 1, 6, 48, 40, 53, 49, 41, 44, 13, 1, 5, 13, 1, 6, 12, 1, 5, 6, 1, 6, 40, 1, 5, 58, 23, 1, 6, 27, 1, 5, 62, 50, 1, 8, 1, 6, 49, 44, 40, 53, 1, 39, 1, 50, 47, 42, 41, 46, 46, 37, 45, 42, 46, 43, 1, 8, 1, 1, 1, 30, 1, 41, 1, 5, 44, 42, 42, 43, 41, 38, 21, 1, 6, 22, 1, 5, 14, 1, 30, 1, 47, 1, 5, 34, 1, 6, 25, 1, 5, 31, 1, 6, 29, 1, 5, 24, 1, 6, 38, 1, 5, 41, 22, 1, 6, 38, 39, 40, 47, 40, 41, 1, 5, 43, 1, 6, 31, 1, 5, 46, 44, 49, 47, 44, 1, 6, 21, 1, 8, 1, 5, 31, 1, 5, 47, 1, 25, 1, 39, 41, 41, 44, 48, 38, 35, 41, 41, 42, 53, 44, 44, 53, 46, 44, 37, 43, 37, 35, 45, 43, 39, 39, 47, 45, 39, 45, 42, 39, 47, 42, 39, 45, 44, 1, 8, 1, 1, 1, 41, 1, 27, 1, 7, 27, 1, 6, 37, 31, 1, 7, 21, 1, 6, 46, 60, 52, 50, 37, 43, 50, 56, 52, 41, 52, 45, 1, 7, 17, 1, 16, 1, 42, 45, 38, 41, 1, 33, 1, 5, 43, 1, 7, 18, 1, 14, 36, 23, 32, 27, 1, 7, 42, 1, 5, 30, 9, 30, 26, 35, 27, 1, 7, 19, 1, 5, 16, 9, 42, 1, 14, 1, 7, 26, 1, 5, 9, 36, 36, 29, 1, 6, 25, 1, 5, 61, 66, 12, 1, 6, 25, 1, 5, 66, 24, 9, 38, 33, 32, 27, 1, 43, 34, 36, 26, 1, 6, 16, 1, 5, 52, 9, 32, 31, 42, 33, 1, 37, 29, 39, 39, 1, 6, 29, 1, 5, 58, 65, 62, 65, 32, 1, 8, 1, 6, 51, 1, 16, 1, 48, 51, 47, 44, 48, 44, 57, 55, 44, 44, 50, 43, 43, 46, 40, 47, 39, 41, 42, 42, 28, 1, 18, 1, 7, 27, 1, 6, 48, 1, 21, 1, 20, 1, 6, 24, 36, 45, 39, 50, 41, 36, 39, 45, 51, 39, 1, 7, 44, 43, 1, 18, 1, 6, 21, 1, 41, 1, 6, 50, 1, 7, 19, 1, 6, 27, 1, 7, 18, 1, 32, 1, 6, 48, 19, 1, 7, 22, 1, 6, 53, 46, 46, 19, 1, 6, 28, 42, 46, 41, 44, 44, 53, 12, 1, 6, 20, 1, 6, 6, 1, 7, 16, 1, 6, 25, 1, 6, 44, 50, 46, 44, 44, 43, 30, 1, 6, 20, 1, 6, 28, 45, 31, 1, 6, 14, 36, 55, 53, 18, 1, 6, 22, 1, 6, 25, 1, 6, 48, 43, 27, 1, 6, 19, 40, 44, 38, 42, 25, 1, 7, 26, 1, 6, 29, 1, 57, 10, 1, 50, 45, 48, 45, 41, 45, 42, 45, 42, 26, 1, 5, 9, 39, 34, 42, 1, 24, 1, 6, 49, 24, 1, 5, 58, 66, 19, 1, 6, 33, 1, 5, 54, 53, 1, 6, 57, 1, 5, 62, 57, 66, 66, 48, 9, 42, 1, 6, 46, 39, 1, 5, 9, 31, 31, 25, 26, 29, 1, 35, 28, 29, 28, 30, 1, 56, 1, 8, 1, 6, 24, 1, 6, 41, 36, 50, 49, 35, 48, 48, 36, 44, 43, 24, 1, 6, 16, 42, 48, 40, 49, 32, 1, 6, 14, 49, 23, 1, 10, 1, 1, 1, 38, 1, 31, 1, 5, 40, 1, 9, 50, 1, 5, 18, 1, 16, 1, 42, 46, 1, 17, 1, 10, 20, 1, 5, 24, 1, 8, 58, 66, 49, 1, 5, 51, 59, 62, 62, 65, 62, 66, 66, 65, 65, 65, 64, 64, 57, 43, 1, 50, 46, 35, 1, 10, 1, 1, 1, 39, 1, 26, 1, 6, 46, 46, 45, 43, 17, 1, 6, 30, 43, 38, 44, 28, 1, 6, 28, 48, 52, 45, 46, 42, 47, 42, 38, 47, 48, 51, 48, 42, 37, 32, 1, 6, 35, 40, 43, 41, 48, 1, 6, 52, 43, 48, 51, 42, 47, 1, 21, 1, 20, 1, 6, 31, 41, 1, 6, 31, 1, 6, 44, 49, 26, 1, 6, 30, 10, 1, 18, 1, 64, 62, 62, 63, 1, 51, 40, 1, 6, 19, 1, 6, 37, 43, 19, 1, 6, 44, 39, 45, 20, 1, 6, 24, 41, 25, 1, 6, 13, 40, 1, 6, 44, 45, 42, 35, 46, 41, 48, 22, 1, 6, 26, 37, 27, 1, 6, 16, 48, 44, 46, 42, 41, 26, 1, 6, 28, 1, 6, 35, 43, 44, 43, 51, 36, 50, 49, 44, 46, 42, 50, 41, 27, 1, 6, 16, 1, 6, 10, 1, 6, 22, 1, 6, 15, 1, 6, 41, 27, 1, 6, 27, 36, 38, 37, 45, 53, 46, 45, 36, 42, 43, 20, 1, 6, 27, 1, 6, 38, 42, 24, 1, 6, 18, 1, 6, 47, 39, 38, 41, 42, 44, 41, 36, 44, 54, 39, 48, 51, 55, 44, 43, 20, 1, 6, 33, 1, 6, 45, 50, 50, 46, 48, 37, 51, 43, 45, 46, 43, 45, 29, 1, 6, 13, 43, 37, 39, 43, 44, 46, 50, 51, 17, 1, 6, 29, 46, 46, 53, 50, 46, 48, 46, 8, 43, 47, 52, 46, 43, 28, 1, 15, 1, 22, 1, 7, 40, 54, 1, 6, 19, 1, 7, 40, 49, 43, 52, 44, 52, 47, 45, 41, 52, 44, 47, 38, 37, 44, 48, 46, 16, 1, 6, 27, 1, 7, 18, 1, 6, 43, 41, 42, 49, 40, 48, 30, 1, 8, 1, 6, 24, 39, 42, 24, 1, 10, 1, 1, 1, 7, 1, 23, 1, 37, 1, 9, 58, 25, 1, 9, 63, 56, 1, 9, 64, 1, 9, 20, 1, 9, 59, 65, 62, 38, 1, 9, 37, 1, 9, 58, 65, 65, 63, 55, 1, 9, 17, 1, 9, 38, 1, 9, 52, 66, 1, 9, 58, 66, 61, 66, 27, 1, 9, 20, 1, 9, 38, 1, 9, 18, 1, 9, 61, 64, 62, 28, 1, 9, 7, 1, 9, 59, 30, 1, 9, 63, 1, 9, 59, 62, 60, 66, 1, 9, 64, 1, 9, 30, 1, 9, 23, 1, 9, 6, 1, 9, 21, 1, 43, 1, 9, 59, 60, 61, 60, 8, 1, 21, 1, 18, 1, 39, 34, 48, 42, 1, 5, 61, 14, 1, 5, 51, 1, 5, 62, 7, 1, 9, 9, 37, 35, 38, 34, 1, 21, 1, 5, 60, 63, 62, 63, 14, 1, 5, 19, 1, 5, 60, 66, 56, 19, 1, 5, 13, 1, 5, 60, 64, 63, 61, 6, 1, 9, 9, 35, 32, 35, 31, 1, 27, 1, 5, 60, 65, 64, 64, 64, 63, 64, 64, 63, 64, 64, 65, 10, 1, 5, 25, 1, 5, 38, 1, 5, 36, 1, 5, 62, 53, 1, 9, 11, 9, 35, 31, 1, 5, 49, 1, 9, 66, 35, 1, 5, 61, 51, 1, 9, 58, 1, 5, 31, 1, 9, 17, 1, 5, 17, 1, 9, 18, 1, 5, 26, 1, 9, 59, 1, 5, 57, 61, 63, 65, 56, 1, 9, 59, 38, 1, 5, 24, 1, 9, 59, 63, 14, 1, 5, 41, 1, 9, 58, 46, 1, 5, 5, 1, 9, 65, 1, 5, 17, 1, 9, 26, 1, 5, 15, 1, 9, 34, 1, 5, 18, 1, 9, 60, 14, 1, 5, 49, 1, 9, 59, 65, 63, 15, 1, 5, 26, 1, 9, 60, 66, 66, 37, 1, 5, 14, 1, 9, 60, 1, 5, 17, 1, 9, 59, 60, 26, 1, 5, 6, 1, 9, 11, 1, 5, 63, 64, 66, 63, 64, 63, 64, 59, 60, 66, 19, 1, 5, 22, 1, 5, 63, 1, 5, 9, 1, 5, 19, 1, 25, 1, 5, 18, 1, 5, 54, 62, 22, 1, 5, 49, 1, 5, 61, 60, 65, 62, 49, 46, 44, 50, 51, 49, 1, 58, 65, 1, 51, 46, 46, 41, 26, 1, 25, 1, 6, 20, 1, 5, 17, 26, 1, 6, 20, 1, 10, 40, 47, 49, 46, 47, 53, 42, 45, 20, 1, 6, 28, 1, 10, 17, 42, 39, 26, 1, 6, 24, 39, 51, 39, 25, 1, 5, 24, 1, 7, 31, 22, 50, 52, 32, 1, 6, 14, 42, 43, 46, 47, 24, 44, 44, 41, 17, 1, 5, 13, 23, 47, 51, 40, 17, 24, 1, 6, 25, 22, 1, 5, 23, 45, 42, 38, 44, 1, 6, 20, 1, 7, 16, 1, 5, 13, 1, 5, 24, 1, 60, 1, 5, 43, 37, 1, 7, 22, 1, 5, 41, 44, 44, 1, 6, 23, 1, 7, 30, 1, 5, 35, 61, 40, 42, 41, 41, 48, 42, 44, 46, 27, 1, 7, 22, 43, 37, 45, 31, 1, 5, 15, 41, 39, 37, 45, 1, 8, 1, 6, 44, 1, 16, 13, 53, 44, 47, 41, 39, 41, 1, 10, 1, 1, 1, 32, 1, 28, 1, 5, 49, 38, 1, 5, 22, 1, 5, 46, 45, 48, 46, 42, 54, 41, 28, 1, 5, 22, 1, 5, 18, 42, 42, 46, 40, 39, 48, 37, 43, 47, 46, 42, 41, 30, 1, 5, 15, 1, 5, 48, 41, 1, 5, 15, 1, 5, 44, 41, 41, 41, 40, 44, 43, 43, 28, 1, 5, 18, 1, 5, 40, 39, 51, 47, 40, 43, 46, 42, 43, 27, 1, 5, 21, 1, 5, 39, 38, 41, 45, 56, 46, 48, 22, 1, 5, 41, 1, 5, 49, 46, 36, 43, 42, 21, 1, 5, 26, 1, 5, 49, 51, 45, 41, 52, 53, 38, 17, 1, 5, 45, 41, 1, 5, 39, 45, 35, 33, 35, 48, 47, 25, 1, 5, 23, 1, 15, 1, 5, 48, 1, 5, 51, 1, 5, 18, 1, 5, 64, 64, 66, 41, 1, 5, 55, 40, 1, 5, 57, 44, 1, 5, 38, 1, 5, 55, 1, 5, 41, 1, 5, 54, 1, 5, 62, 64, 57, 10, 1, 5, 27, 38, 1, 5, 60, 56, 60, 65, 65, 46, 1, 5, 60, 64, 63, 66, 66, 63, 44, 1, 5, 45, 1, 5, 63, 14, 1, 5, 5, 1, 5, 66, 13, 1, 5, 47, 1, 5, 12, 1, 5, 58, 1, 5, 13, 1, 5, 32, 1, 5, 62, 29, 1, 5, 54, 1, 5, 59, 57, 1, 5, 59, 42, 1, 5, 19, 1, 5, 19, 1, 5, 38, 1, 5, 57, 59, 66, 62, 62, 22, 1, 5, 29, 1, 5, 60, 1, 5, 37, 1, 5, 58, 66, 61, 66, 65, 1, 5, 57, 58, 62, 45, 1, 5, 20, 1, 5, 57, 1, 5, 61, 58, 63, 64, 24, 1, 5, 32, 1, 5, 59, 1, 5, 36, 1, 5, 14, 1, 14, 1, 62, 12, 1, 5, 51, 1, 5, 66, 66, 62, 59, 63, 42, 1, 16, 1, 6, 58, 65, 64, 23, 1, 5, 63, 66, 21, 1, 6, 44, 1, 5, 15, 1, 6, 58, 33, 1, 5, 23, 1, 13, 1, 5, 35, 1, 5, 60, 66, 62, 1, 5, 21, 1, 5, 59, 31, 1, 5, 63, 40, 1, 5, 60, 64, 65, 64, 28, 1, 63, 11, 1, 6, 48, 1, 45, 1, 5, 49, 38, 52, 41, 17, 46, 44, 44, 38, 46, 43, 44, 42, 36, 23, 40, 46, 41, 21, 1, 6, 26, 48, 41, 41, 43, 38, 44, 42, 23, 1, 5, 21, 46, 28, 1, 6, 18, 1, 5, 46, 52, 24, 1, 6, 18, 1, 5, 18, 1, 6, 49, 20, 1, 5, 20, 49, 1, 6, 40, 49, 1, 6, 39, 1, 5, 51, 1, 24, 1, 5, 18, 1, 6, 45, 40, 41, 45, 48, 40, 45, 48, 41, 38, 50, 49, 38, 1, 5, 14, 1, 6, 15, 1, 13, 1, 5, 5, 1, 6, 4, 1, 5, 10, 1, 5, 28, 1, 6, 14, 1, 6, 51, 24, 1, 46, 1, 18, 1, 5, 47, 34, 1, 13, 1, 6, 32, 1, 6, 19, 1, 7, 33, 45, 43, 1, 5, 12, 1, 6, 24, 1, 7, 39, 1, 6, 49, 1, 5, 40, 1, 7, 28, 1, 6, 27, 1, 6, 18, 1, 6, 52, 1, 5, 45, 41, 37, 1, 6, 21, 1, 13, 1, 5, 22, 1, 6, 17, 1, 49, 44, 1, 6, 30, 1, 5, 17, 1, 19, 1, 5, 29, 1, 5, 47, 1, 5, 19, 1, 6, 45, 44, 1, 5, 20, 1, 6, 30, 1, 7, 51, 38, 1, 8, 1, 5, 40, 24, 1, 17, 1, 6, 44, 43, 43, 43, 41, 42, 44, 47, 1, 5, 27, 26, 1, 18, 1, 17, 18, 1, 6, 42, 1, 5, 47, 43, 18, 1, 13, 1, 6, 21, 38, 44, 47, 17, 1, 8, 1, 5, 46, 46, 47, 44, 47, 49, 36, 43, 20, 1, 5, 18, 42, 29, 1, 5, 18, 51, 37, 52, 41, 34, 49, 20, 1, 35, 1, 28, 1, 5, 50, 36, 21, 1, 5, 19, 46, 45, 38, 38, 49, 44, 1, 8, 1, 5, 53, 45, 31, 1, 16, 1, 57, 1, 6, 21, 1, 5, 25, 46, 1, 6, 44, 44, 36, 25, 1, 14, 21, 44, 52, 41, 44, 33, 1, 5, 20, 41, 43, 46, 48, 47, 39, 44, 47, 38, 44, 46, 38, 47, 15, 1, 6, 25, 38, 42, 46, 47, 1, 5, 42, 50, 42, 53, 28, 1, 6, 18, 41, 39, 51, 41, 24, 42, 46, 28, 1, 16, 1, 64, 23]\n"
    }
   ],
   "source": [
    "linelengths=[len(line) for line in open(\"hamlet.txt\")]#poor code as we dont close the file\n",
    "print (linelengths)"
   ]
  },
  {
   "cell_type": "code",
   "execution_count": 33,
   "metadata": {},
   "outputs": [
    {
     "data": {
      "text/plain": "(173948, 25.69394387001477, 25.0, 21.02987202142746)"
     },
     "execution_count": 33,
     "metadata": {},
     "output_type": "execute_result"
    }
   ],
   "source": [
    "sum(linelengths), np.mean(linelengths), np.median(linelengths), np.std(linelengths)"
   ]
  },
  {
   "cell_type": "markdown",
   "metadata": {},
   "source": [
    "But perhaps we want to access Hamlet word by word and not line by line"
   ]
  },
  {
   "cell_type": "code",
   "execution_count": 34,
   "metadata": {},
   "outputs": [
    {
     "data": {
      "text/plain": "31659"
     },
     "execution_count": 34,
     "metadata": {},
     "output_type": "execute_result"
    }
   ],
   "source": [
    "hamletfile=open(\"hamlet.txt\")\n",
    "hamlettext=hamletfile.read()\n",
    "hamletfile.close()\n",
    "hamlettokens=hamlettext.split()#split with no arguments splits on whitespace\n",
    "len(hamlettokens)"
   ]
  },
  {
   "cell_type": "markdown",
   "metadata": {},
   "source": [
    "One can use the `with` syntax which cretaes a context. The file closing is then done automatically for us."
   ]
  },
  {
   "cell_type": "code",
   "execution_count": 120,
   "metadata": {},
   "outputs": [
    {
     "name": "stdout",
     "output_type": "stream",
     "text": "31659\n"
    }
   ],
   "source": [
    "with open(\"hamlet.txt\", encoding='utf-8-sig') as hamletfile:\n",
    "    hamlettext=hamletfile.read()\n",
    "    hamlettokens=hamlettext.split()\n",
    "    print (len(hamlettokens))"
   ]
  },
  {
   "cell_type": "markdown",
   "metadata": {},
   "source": [
    "There are roughly 32,000 words in Hamlet."
   ]
  },
  {
   "cell_type": "markdown",
   "metadata": {},
   "source": [
    "### The indexing of lists"
   ]
  },
  {
   "cell_type": "code",
   "execution_count": 109,
   "metadata": {},
   "outputs": [
    {
     "name": "stdout",
     "output_type": "stream",
     "text": "﻿XXXX\nHAMLET, PRINCE OF DENMARK\n\nby William Shakespeare\n\n\n\n\nPERSONS REPRESENTED.\n\nClaudius, King of Denmark.\nHamlet, Son to the former, and Nephew to the present King.\nPolonius, Lord Chamberlain.\nHoratio, Friend to Hamlet.\nLaertes, Son to Polonius.\nVoltimand, Courtier.\nCornelius, Courtier.\nRosencrantz, Courtier.\nGuildenstern, Courtier.\nOsric, Courtier.\nA Gentleman, Courtier.\nA Priest.\nMarcellus, Officer.\nBernardo, Officer.\nFrancisco, a Soldier\nReynaldo, Servant to Polonius.\nPlayers.\nTwo Clowns, Grave-diggers.\nFortinbras, Prince of Norway.\nA Captain.\nEnglish Ambassadors.\nGhost of Hamlet's Father.\n\nGertrude, Queen of Denmark, and Mother of Hamlet.\nOphelia, Daughter to Polonius.\n\nLords, Ladies, Officers, Soldiers, Sailors, Messengers, and other\nAttendants.\n\nSCENE. Elsinore.\n\n\n\nACT I.\n\nScene I. Elsinore. A platform before the Castle.\n\n[Francisco at his post. Enter to him Bernardo.]\n\nBer.\nWho's there?\n\nFran.\nNay, answer me: stand, and unfold yourself.\n\nBer.\nLong live the king!\n\nFran.\nBernar\n"
    }
   ],
   "source": [
    "print (hamlettext[:1000])#first 1000 characters from Hamlet."
   ]
  },
  {
   "cell_type": "code",
   "execution_count": 110,
   "metadata": {},
   "outputs": [
    {
     "name": "stdout",
     "output_type": "stream",
     "text": "on by cunning and forc'd cause;\nAnd, in this upshot, purposes mistook\nFall'n on the inventors' heads: all this can I\nTruly deliver.\n\nFort.\nLet us haste to hear it,\nAnd call the noblest to the audience.\nFor me, with sorrow I embrace my fortune:\nI have some rights of memory in this kingdom,\nWhich now, to claim my vantage doth invite me.\n\nHor.\nOf that I shall have also cause to speak,\nAnd from his mouth whose voice will draw on more:\nBut let this same be presently perform'd,\nEven while men's minds are wild: lest more mischance\nOn plots and errors happen.\n\nFort.\nLet four captains\nBear Hamlet like a soldier to the stage;\nFor he was likely, had he been put on,\nTo have prov'd most royally: and, for his passage,\nThe soldiers' music and the rites of war\nSpeak loudly for him.--\nTake up the bodies.--Such a sight as this\nBecomes the field, but here shows much amiss.\nGo, bid the soldiers shoot.\n\n[A dead march.]\n\n[Exeunt, bearing off the dead bodies; after the which a peal of\nordnance is shot off.]\n\n"
    }
   ],
   "source": [
    "print (hamlettext[-1000:])#and last 1000 characters from Hamlet."
   ]
  },
  {
   "cell_type": "markdown",
   "metadata": {},
   "source": [
    "Lets split the word tokens. The first one below reads, give me the second, third, and fourth words (remember that python is 0 indexed). Try and figure what the others mean."
   ]
  },
  {
   "cell_type": "code",
   "execution_count": 111,
   "metadata": {},
   "outputs": [
    {
     "name": "stdout",
     "output_type": "stream",
     "text": "['HAMLET,', 'PRINCE', 'OF'] ['\\ufeffXXXX', 'HAMLET,', 'PRINCE', 'OF'] ﻿XXXX off.]\n"
    }
   ],
   "source": [
    "print (hamlettokens[1:4], hamlettokens[:4], hamlettokens[0], hamlettokens[-1])"
   ]
  },
  {
   "cell_type": "code",
   "execution_count": 112,
   "metadata": {},
   "outputs": [
    {
     "data": {
      "text/plain": "['HAMLET,', 'OF', 'by', 'Shakespeare']"
     },
     "execution_count": 112,
     "metadata": {},
     "output_type": "execute_result"
    }
   ],
   "source": [
    "hamlettokens[1:8:2]#get every 2nd world between the 2nd and the 9th: ie 2nd, 4th, 6th, and 8th"
   ]
  },
  {
   "cell_type": "markdown",
   "metadata": {},
   "source": [
    "range and xrange get the list of integers upto N. But xrange behaves like an iterator. The reason for this is that there is no point generaing all os a million integers. We can just add 1 to the previous one and save memory. So we trade off storage for computation."
   ]
  },
  {
   "cell_type": "code",
   "execution_count": 113,
   "metadata": {},
   "outputs": [
    {
     "data": {
      "text/plain": "[0, 1, 2, 3, 4, 5, 6, 7, 8, 9]"
     },
     "execution_count": 113,
     "metadata": {},
     "output_type": "execute_result"
    }
   ],
   "source": [
    "mylist=[]\n",
    "for i in range(10):\n",
    "    mylist.append(i)\n",
    "mylist"
   ]
  },
  {
   "cell_type": "markdown",
   "metadata": {},
   "source": [
    "## Dictionaries\n",
    "\n",
    "These are the bread and butter. You will use them a lot. They even duck like lists. But be careful how."
   ]
  },
  {
   "cell_type": "code",
   "execution_count": 114,
   "metadata": {},
   "outputs": [
    {
     "name": "stdout",
     "output_type": "stream",
     "text": "['one', 'two', 'three'] [('one', 1), ('two', 2), ('three', 3)] dict_values([1, 2, 3])\n"
    }
   ],
   "source": [
    "adict={'one':1, 'two': 2, 'three': 3}\n",
    "print ([i for i in adict], [(k,v) for k,v in adict.items()], adict.values())"
   ]
  },
  {
   "cell_type": "markdown",
   "metadata": {},
   "source": [
    "The keys do not have to be strings. From python 2.7 you can use dictionary comprehensions as well"
   ]
  },
  {
   "cell_type": "code",
   "execution_count": 115,
   "metadata": {},
   "outputs": [
    {
     "data": {
      "text/plain": "{1: 1, 2: 4, 3: 9, 4: 16, 5: 25}"
     },
     "execution_count": 115,
     "metadata": {},
     "output_type": "execute_result"
    }
   ],
   "source": [
    "mydict ={k:v for (k,v) in zip(alist, asquaredlist)}\n",
    "mydict"
   ]
  },
  {
   "cell_type": "markdown",
   "metadata": {},
   "source": [
    "You can construct then nicely using the function `dict`."
   ]
  },
  {
   "cell_type": "code",
   "execution_count": 44,
   "metadata": {},
   "outputs": [
    {
     "data": {
      "text/plain": "{'a': 1, 'b': 2}"
     },
     "execution_count": 44,
     "metadata": {},
     "output_type": "execute_result"
    }
   ],
   "source": [
    "dict(a=1, b=2)"
   ]
  },
  {
   "cell_type": "markdown",
   "metadata": {},
   "source": [
    "### and conversion to json"
   ]
  },
  {
   "cell_type": "code",
   "execution_count": 47,
   "metadata": {},
   "outputs": [],
   "source": [
    "import json"
   ]
  },
  {
   "cell_type": "code",
   "execution_count": 48,
   "metadata": {},
   "outputs": [
    {
     "name": "stdout",
     "output_type": "stream",
     "text": "{\"1\": 1, \"2\": 4, \"3\": 9, \"4\": 16, \"5\": 25}\n"
    }
   ],
   "source": [
    "s=json.dumps(mydict)\n",
    "print (s)"
   ]
  },
  {
   "cell_type": "code",
   "execution_count": 49,
   "metadata": {},
   "outputs": [
    {
     "data": {
      "text/plain": "{'1': 1, '2': 4, '3': 9, '4': 16, '5': 25}"
     },
     "execution_count": 49,
     "metadata": {},
     "output_type": "execute_result"
    }
   ],
   "source": [
    "json.loads(s)"
   ]
  },
  {
   "cell_type": "markdown",
   "metadata": {},
   "source": [
    "## Strings\n",
    "\n",
    "Basically they behave like immutable lists"
   ]
  },
  {
   "cell_type": "code",
   "execution_count": 116,
   "metadata": {},
   "outputs": [
    {
     "name": "stdout",
     "output_type": "stream",
     "text": "off.]\n"
    }
   ],
   "source": [
    "lastword=hamlettokens[-1]\n",
    "print(lastword)"
   ]
  },
  {
   "cell_type": "code",
   "execution_count": 117,
   "metadata": {},
   "outputs": [
    {
     "ename": "TypeError",
     "evalue": "'str' object does not support item assignment",
     "output_type": "error",
     "traceback": [
      "\u001b[1;31m---------------------------------------------------------------------------\u001b[0m",
      "\u001b[1;31mTypeError\u001b[0m                                 Traceback (most recent call last)",
      "\u001b[1;32m<ipython-input-117-a2b5f6b81b5d>\u001b[0m in \u001b[0;36m<module>\u001b[1;34m\u001b[0m\n\u001b[1;32m----> 1\u001b[1;33m \u001b[0mlastword\u001b[0m\u001b[1;33m[\u001b[0m\u001b[1;33m-\u001b[0m\u001b[1;36m2\u001b[0m\u001b[1;33m]\u001b[0m\u001b[1;33m=\u001b[0m\u001b[1;34m\"k\"\u001b[0m\u001b[1;31m#cant change a part of a string\u001b[0m\u001b[1;33m\u001b[0m\u001b[1;33m\u001b[0m\u001b[0m\n\u001b[0m",
      "\u001b[1;31mTypeError\u001b[0m: 'str' object does not support item assignment"
     ]
    }
   ],
   "source": [
    "lastword[-2]=\"k\"#cant change a part of a string"
   ]
  },
  {
   "cell_type": "code",
   "execution_count": 118,
   "metadata": {},
   "outputs": [
    {
     "data": {
      "text/plain": "'.'"
     },
     "execution_count": 118,
     "metadata": {},
     "output_type": "execute_result"
    }
   ],
   "source": [
    "lastword[-2]"
   ]
  },
  {
   "cell_type": "markdown",
   "execution_count": 53,
   "metadata": {},
   "outputs": [
    {
     "ename": "SyntaxError",
     "evalue": "invalid syntax (<ipython-input-53-79c0d1ffebad>, line 1)",
     "output_type": "error",
     "traceback": [
      "\u001b[1;36m  File \u001b[1;32m\"<ipython-input-53-79c0d1ffebad>\"\u001b[1;36m, line \u001b[1;32m1\u001b[0m\n\u001b[1;33m    You can join a list with a separator to make a string.\u001b[0m\n\u001b[1;37m          ^\u001b[0m\n\u001b[1;31mSyntaxError\u001b[0m\u001b[1;31m:\u001b[0m invalid syntax\n"
     ]
    }
   ],
   "source": [
    "You can join a list with a separator to make a string."
   ]
  },
  {
   "cell_type": "code",
   "execution_count": 121,
   "metadata": {},
   "outputs": [
    {
     "data": {
      "text/plain": "\"XXXX,HAMLET,,PRINCE,OF,DENMARK,by,William,Shakespeare,PERSONS,REPRESENTED.,Claudius,,King,of,Denmark.,Hamlet,,Son,to,the,former,,and,Nephew,to,the,present,King.,Polonius,,Lord,Chamberlain.,Horatio,,Friend,to,Hamlet.,Laertes,,Son,to,Polonius.,Voltimand,,Courtier.,Cornelius,,Courtier.,Rosencrantz,,Courtier.,Guildenstern,,Courtier.,Osric,,Courtier.,A,Gentleman,,Courtier.,A,Priest.,Marcellus,,Officer.,Bernardo,,Officer.,Francisco,,a,Soldier,Reynaldo,,Servant,to,Polonius.,Players.,Two,Clowns,,Grave-diggers.,Fortinbras,,Prince,of,Norway.,A,Captain.,English,Ambassadors.,Ghost,of,Hamlet's,Father.,Gertrude,,Queen,of,Denmark,,and,Mother,of,Hamlet.,Ophelia,,Daughter,to,Polonius.,Lords,,Ladies,,Officers,,Soldiers,,Sailors,,Messengers,,and,other,Attendants.,SCENE.,Elsinore.,ACT,I.,Scene,I.,Elsinore.,A,platform,before,the,Castle.,[Francisco,at,his,post.,Enter,to,him,Bernardo.],Ber.,Who's,there?,Fran.,Nay,,answer,me:,stand,,and,unfold,yourself.,Ber.,Long,live,the,king!,Fran.,Bernardo?,Ber.,He.,Fran.,\""
     },
     "execution_count": 121,
     "metadata": {},
     "output_type": "execute_result"
    }
   ],
   "source": [
    "wierdstring=\",\".join(hamlettokens)\n",
    "wierdstring[:1000]"
   ]
  },
  {
   "cell_type": "markdown",
   "metadata": {},
   "source": [
    "## Functions\n",
    "\n",
    "Functions are even more the bread and butter. You'll see them as methods on objects, or standing alone by themselves."
   ]
  },
  {
   "cell_type": "code",
   "execution_count": 55,
   "metadata": {},
   "outputs": [
    {
     "data": {
      "text/plain": "(25, 125)"
     },
     "execution_count": 55,
     "metadata": {},
     "output_type": "execute_result"
    }
   ],
   "source": [
    "def square(x):\n",
    "    return(x*x)\n",
    "def cube(x):\n",
    "    return x*x*x\n",
    "square(5),cube(5)"
   ]
  },
  {
   "cell_type": "code",
   "execution_count": 57,
   "metadata": {},
   "outputs": [
    {
     "name": "stdout",
     "output_type": "stream",
     "text": "<function square at 0x000001979292E4C8> <class 'function'>\n"
    }
   ],
   "source": [
    "print (square, type(cube))"
   ]
  },
  {
   "cell_type": "markdown",
   "metadata": {},
   "source": [
    "In Python, functions are \"first-class\". This is just a fancy way of saying, you can pass functions to other functions"
   ]
  },
  {
   "cell_type": "code",
   "execution_count": 60,
   "metadata": {},
   "outputs": [
    {
     "name": "stdout",
     "output_type": "stream",
     "text": "3 4 <function square at 0x000001979292E4C8>\n"
    },
    {
     "data": {
      "text/plain": "25"
     },
     "execution_count": 60,
     "metadata": {},
     "output_type": "execute_result"
    }
   ],
   "source": [
    "def sum_of_anything(x,y,f):\n",
    "    print(x,y,f)\n",
    "    return(f(x) + f(y))\n",
    "sum_of_anything(3,4,square)"
   ]
  },
  {
   "cell_type": "markdown",
   "metadata": {},
   "source": [
    "Python functions can have positional arguments and keyword arguments. Positional arguments are stored in a tuple, and keyword arguments in a dictionary. Note the \"starred\" syntax"
   ]
  },
  {
   "cell_type": "code",
   "execution_count": 62,
   "metadata": {},
   "outputs": [
    {
     "name": "stdout",
     "output_type": "stream",
     "text": "got 1 3 () {}\n1\ngot 1 3 (4,) {'d': 1, 'c': 2}\n1\n"
    }
   ],
   "source": [
    "def f(a,b,*posargs,**dictargs):\n",
    "    print (\"got\",a,b,posargs, dictargs)\n",
    "    return a\n",
    "print (f(1,3))\n",
    "print (f(1,3,4,d=1,c=2))"
   ]
  },
  {
   "cell_type": "markdown",
   "metadata": {},
   "source": [
    ">**YOUR TURN** create a dictionary with keys the integers upto and including 10, and values the cubes of these dictionaries"
   ]
  },
  {
   "cell_type": "code",
   "execution_count": 67,
   "metadata": {},
   "outputs": [
    {
     "name": "stdout",
     "output_type": "stream",
     "text": "{1: 1, 2: 8, 3: 27, 4: 64, 5: 125, 6: 216, 7: 343, 8: 512, 9: 729, 10: 1000}\n"
    }
   ],
   "source": [
    "#your code here\n",
    "dict_1 = {k:k**3 for k in range(1,11)}\n",
    "print(dict_1)"
   ]
  },
  {
   "cell_type": "markdown",
   "metadata": {},
   "source": [
    "## Booleans and Control-flow\n",
    "\n",
    "Lets test for belonging..."
   ]
  },
  {
   "cell_type": "code",
   "execution_count": 68,
   "metadata": {},
   "outputs": [
    {
     "data": {
      "text/plain": "True"
     },
     "execution_count": 68,
     "metadata": {},
     "output_type": "execute_result"
    }
   ],
   "source": [
    "a=[1,2,3,4,5]\n",
    "1 in a"
   ]
  },
  {
   "cell_type": "code",
   "execution_count": 69,
   "metadata": {},
   "outputs": [
    {
     "data": {
      "text/plain": "False"
     },
     "execution_count": 69,
     "metadata": {},
     "output_type": "execute_result"
    }
   ],
   "source": [
    "6 in a"
   ]
  },
  {
   "cell_type": "markdown",
   "metadata": {},
   "source": [
    "Python supports if/elif/else clauses for multi-way conditionals"
   ]
  },
  {
   "cell_type": "code",
   "execution_count": 71,
   "metadata": {},
   "outputs": [
    {
     "name": "stdout",
     "output_type": "stream",
     "text": "One\n"
    }
   ],
   "source": [
    "def do_it(x):\n",
    "    if x==1:\n",
    "        print (\"One\")\n",
    "    elif x==2:\n",
    "        print (\"Two\")\n",
    "    else:\n",
    "        print (x)\n",
    "do_it(1)"
   ]
  },
  {
   "cell_type": "code",
   "execution_count": 73,
   "metadata": {},
   "outputs": [
    {
     "name": "stdout",
     "output_type": "stream",
     "text": "Two\n3\n"
    },
    {
     "data": {
      "text/plain": "(None, None)"
     },
     "execution_count": 73,
     "metadata": {},
     "output_type": "execute_result"
    }
   ],
   "source": [
    "do_it(2), do_it(3)"
   ]
  },
  {
   "cell_type": "markdown",
   "metadata": {},
   "source": [
    "You can `break` out of a loop based on a condition. The loop below is a for loop."
   ]
  },
  {
   "cell_type": "code",
   "execution_count": 74,
   "metadata": {},
   "outputs": [
    {
     "name": "stdout",
     "output_type": "stream",
     "text": "0\n1\n2\n3\n4\n5\n6\n"
    }
   ],
   "source": [
    "for i in range(10):\n",
    "    print (i)\n",
    "    if (i > 5):\n",
    "        break"
   ]
  },
  {
   "cell_type": "markdown",
   "metadata": {},
   "source": [
    "While loops are also supported. `continue` continues to the next iteration of the loop skipping all the code below, while `break` breaks out of it."
   ]
  },
  {
   "cell_type": "code",
   "execution_count": 75,
   "metadata": {},
   "outputs": [
    {
     "name": "stdout",
     "output_type": "stream",
     "text": "0\n1\n2\n3\n4\n"
    }
   ],
   "source": [
    "i=0\n",
    "while i < 10:\n",
    "    print (i)\n",
    "    i=i+1\n",
    "    if i < 5:\n",
    "        continue\n",
    "    else:\n",
    "        break\n"
   ]
  },
  {
   "cell_type": "markdown",
   "metadata": {},
   "source": [
    "## Exceptions\n",
    "\n",
    "This is the way to catch errors."
   ]
  },
  {
   "cell_type": "code",
   "execution_count": 77,
   "metadata": {},
   "outputs": [
    {
     "name": "stdout",
     "output_type": "stream",
     "text": "(<class 'TypeError'>, TypeError(\"f() missing 1 required positional argument: 'b'\"), <traceback object at 0x000001979335FE08>)\n"
    }
   ],
   "source": [
    "try:\n",
    "    f(1)#takes atleast 2 arguments\n",
    "except:\n",
    "    import sys\n",
    "    print (sys.exc_info())"
   ]
  },
  {
   "cell_type": "markdown",
   "metadata": {},
   "source": [
    "## All together now\n",
    "\n",
    "Lets see what hamlet gives us. We convert all words to lower-case"
   ]
  },
  {
   "cell_type": "code",
   "execution_count": 122,
   "metadata": {},
   "outputs": [
    {
     "data": {
      "text/plain": "95"
     },
     "execution_count": 122,
     "metadata": {},
     "output_type": "execute_result"
    }
   ],
   "source": [
    "hamletlctokens=[word.lower() for word in hamlettokens]\n",
    "hamletlctokens.count(\"thou\")"
   ]
  },
  {
   "cell_type": "markdown",
   "metadata": {},
   "source": [
    "We then find a unique set of words using python's `set` data structure. We count how often those words occured usinf the `count` method on lists."
   ]
  },
  {
   "cell_type": "code",
   "execution_count": 123,
   "metadata": {},
   "outputs": [],
   "source": [
    "uniquelctokens=set(hamletlctokens)"
   ]
  },
  {
   "cell_type": "code",
   "execution_count": 124,
   "metadata": {},
   "outputs": [],
   "source": [
    "tokendict={}\n",
    "for ut in uniquelctokens:\n",
    "    tokendict[ut]=hamletlctokens.count(ut)"
   ]
  },
  {
   "cell_type": "markdown",
   "metadata": {},
   "source": [
    "We find the 100 most used words..."
   ]
  },
  {
   "cell_type": "code",
   "execution_count": 125,
   "metadata": {},
   "outputs": [
    {
     "ename": "TypeError",
     "evalue": "<lambda>() missing 1 required positional argument: 'v'",
     "output_type": "error",
     "traceback": [
      "\u001b[1;31m---------------------------------------------------------------------------\u001b[0m",
      "\u001b[1;31mTypeError\u001b[0m                                 Traceback (most recent call last)",
      "\u001b[1;32m<ipython-input-125-ad9c2f4e4bca>\u001b[0m in \u001b[0;36m<module>\u001b[1;34m\u001b[0m\n\u001b[1;32m----> 1\u001b[1;33m \u001b[0mL\u001b[0m\u001b[1;33m=\u001b[0m\u001b[0msorted\u001b[0m\u001b[1;33m(\u001b[0m\u001b[0mtokendict\u001b[0m\u001b[1;33m.\u001b[0m\u001b[0mitems\u001b[0m\u001b[1;33m(\u001b[0m\u001b[1;33m)\u001b[0m\u001b[1;33m,\u001b[0m \u001b[0mkey\u001b[0m\u001b[1;33m=\u001b[0m \u001b[1;32mlambda\u001b[0m \u001b[0mk\u001b[0m\u001b[1;33m,\u001b[0m\u001b[0mv\u001b[0m\u001b[1;33m:\u001b[0m\u001b[0mv\u001b[0m\u001b[1;33m,\u001b[0m \u001b[0mreverse\u001b[0m\u001b[1;33m=\u001b[0m\u001b[1;32mTrue\u001b[0m\u001b[1;33m)\u001b[0m\u001b[1;33m[\u001b[0m\u001b[1;33m:\u001b[0m\u001b[1;36m100\u001b[0m\u001b[1;33m]\u001b[0m\u001b[1;33m\u001b[0m\u001b[1;33m\u001b[0m\u001b[0m\n\u001b[0m\u001b[0;32m      2\u001b[0m \u001b[0mL\u001b[0m\u001b[1;33m\u001b[0m\u001b[1;33m\u001b[0m\u001b[0m\n",
      "\u001b[1;31mTypeError\u001b[0m: <lambda>() missing 1 required positional argument: 'v'"
     ]
    }
   ],
   "source": [
    "L=sorted(tokendict.items(), key= lambda k,v:v, reverse=True)[:100]\n",
    "L"
   ]
  },
  {
   "cell_type": "markdown",
   "metadata": {},
   "source": [
    "Lets get the top 20 of this and plot a bar chart!"
   ]
  },
  {
   "cell_type": "code",
   "execution_count": 126,
   "metadata": {},
   "outputs": [
    {
     "name": "stdout",
     "output_type": "stream",
     "text": "[('&c,', 1), (\"&c.'\", 1), ('&c.]', 4), (\"''tis\", 1), (\"'a\", 3), (\"'adieu,\", 1), (\"'alone.'\", 1), (\"'and\", 1), (\"'as\", 1), (\"'beautified'\", 1), (\"'choose\", 1), (\"'closes\", 1), (\"'doubt\", 1), (\"'down\", 1), (\"'em?\", 2), (\"'for,\", 1), (\"'fore\", 1), (\"'friend\", 1), (\"'friend,'\", 1), (\"'gainst\", 5)]\n"
    },
    {
     "data": {
      "image/png": "[encoded data removed]",
      "image/svg+xml": "<?xml version=\"1.0\" encoding=\"utf-8\" standalone=\"no\"?>\r\n<!DOCTYPE svg PUBLIC \"-//W3C//DTD SVG 1.1//EN\"\r\n  \"http://www.w3.org/Graphics/SVG/1.1/DTD/svg11.dtd\">\r\n<!-- Created with matplotlib (https://matplotlib.org/) -->\r\n<svg height=\"248.518125pt\" version=\"1.1\" viewBox=\"0 0 364.079474 248.518125\" width=\"364.079474pt\" xmlns=\"http://www.w3.org/2000/svg\" xmlns:xlink=\"http://www.w3.org/1999/xlink\">\r\n <defs>\r\n  <style type=\"text/css\">\r\n*{stroke-linecap:butt;stroke-linejoin:round;}\r\n  </style>\r\n </defs>\r\n <g id=\"figure_1\">\r\n  <g id=\"patch_1\">\r\n   <path d=\"M 0 248.518125 \r\nL 364.079474 248.518125 \r\nL 364.079474 0 \r\nL 0 0 \r\nz\r\n\" style=\"fill:none;\"/>\r\n  </g>\r\n  <g id=\"axes_1\">\r\n   <g id=\"patch_2\">\r\n    <path d=\"M 20.5625 224.64 \r\nL 355.3625 224.64 \r\nL 355.3625 7.2 \r\nL 20.5625 7.2 \r\nz\r\n\" style=\"fill:#ffffff;\"/>\r\n   </g>\r\n   <g id=\"patch_3\">\r\n    <path clip-path=\"url(#p920342ac6a)\" d=\"M 35.780682 224.64 \r\nL 48.078202 224.64 \r\nL 48.078202 183.222857 \r\nL 35.780682 183.222857 \r\nz\r\n\" style=\"fill:#1f77b4;\"/>\r\n   </g>\r\n   <g id=\"patch_4\">\r\n    <path clip-path=\"url(#p920342ac6a)\" d=\"M 51.152583 224.64 \r\nL 63.450103 224.64 \r\nL 63.450103 183.222857 \r\nL 51.152583 183.222857 \r\nz\r\n\" style=\"fill:#1f77b4;\"/>\r\n   </g>\r\n   <g id=\"patch_5\">\r\n    <path clip-path=\"url(#p920342ac6a)\" d=\"M 66.524483 224.64 \r\nL 78.822004 224.64 \r\nL 78.822004 58.971429 \r\nL 66.524483 58.971429 \r\nz\r\n\" style=\"fill:#1f77b4;\"/>\r\n   </g>\r\n   <g id=\"patch_6\">\r\n    <path clip-path=\"url(#p920342ac6a)\" d=\"M 81.896384 224.64 \r\nL 94.193905 224.64 \r\nL 94.193905 183.222857 \r\nL 81.896384 183.222857 \r\nz\r\n\" style=\"fill:#1f77b4;\"/>\r\n   </g>\r\n   <g id=\"patch_7\">\r\n    <path clip-path=\"url(#p920342ac6a)\" d=\"M 97.268285 224.64 \r\nL 109.565806 224.64 \r\nL 109.565806 100.388571 \r\nL 97.268285 100.388571 \r\nz\r\n\" style=\"fill:#1f77b4;\"/>\r\n   </g>\r\n   <g id=\"patch_8\">\r\n    <path clip-path=\"url(#p920342ac6a)\" d=\"M 112.640186 224.64 \r\nL 124.937707 224.64 \r\nL 124.937707 183.222857 \r\nL 112.640186 183.222857 \r\nz\r\n\" style=\"fill:#1f77b4;\"/>\r\n   </g>\r\n   <g id=\"patch_9\">\r\n    <path clip-path=\"url(#p920342ac6a)\" d=\"M 128.012087 224.64 \r\nL 140.309607 224.64 \r\nL 140.309607 183.222857 \r\nL 128.012087 183.222857 \r\nz\r\n\" style=\"fill:#1f77b4;\"/>\r\n   </g>\r\n   <g id=\"patch_10\">\r\n    <path clip-path=\"url(#p920342ac6a)\" d=\"M 143.383988 224.64 \r\nL 155.681508 224.64 \r\nL 155.681508 183.222857 \r\nL 143.383988 183.222857 \r\nz\r\n\" style=\"fill:#1f77b4;\"/>\r\n   </g>\r\n   <g id=\"patch_11\">\r\n    <path clip-path=\"url(#p920342ac6a)\" d=\"M 158.755888 224.64 \r\nL 171.053409 224.64 \r\nL 171.053409 183.222857 \r\nL 158.755888 183.222857 \r\nz\r\n\" style=\"fill:#1f77b4;\"/>\r\n   </g>\r\n   <g id=\"patch_12\">\r\n    <path clip-path=\"url(#p920342ac6a)\" d=\"M 174.127789 224.64 \r\nL 186.42531 224.64 \r\nL 186.42531 183.222857 \r\nL 174.127789 183.222857 \r\nz\r\n\" style=\"fill:#1f77b4;\"/>\r\n   </g>\r\n   <g id=\"patch_13\">\r\n    <path clip-path=\"url(#p920342ac6a)\" d=\"M 189.49969 224.64 \r\nL 201.797211 224.64 \r\nL 201.797211 183.222857 \r\nL 189.49969 183.222857 \r\nz\r\n\" style=\"fill:#1f77b4;\"/>\r\n   </g>\r\n   <g id=\"patch_14\">\r\n    <path clip-path=\"url(#p920342ac6a)\" d=\"M 204.871591 224.64 \r\nL 217.169112 224.64 \r\nL 217.169112 183.222857 \r\nL 204.871591 183.222857 \r\nz\r\n\" style=\"fill:#1f77b4;\"/>\r\n   </g>\r\n   <g id=\"patch_15\">\r\n    <path clip-path=\"url(#p920342ac6a)\" d=\"M 220.243492 224.64 \r\nL 232.541012 224.64 \r\nL 232.541012 183.222857 \r\nL 220.243492 183.222857 \r\nz\r\n\" style=\"fill:#1f77b4;\"/>\r\n   </g>\r\n   <g id=\"patch_16\">\r\n    <path clip-path=\"url(#p920342ac6a)\" d=\"M 235.615393 224.64 \r\nL 247.912913 224.64 \r\nL 247.912913 183.222857 \r\nL 235.615393 183.222857 \r\nz\r\n\" style=\"fill:#1f77b4;\"/>\r\n   </g>\r\n   <g id=\"patch_17\">\r\n    <path clip-path=\"url(#p920342ac6a)\" d=\"M 250.987293 224.64 \r\nL 263.284814 224.64 \r\nL 263.284814 141.805714 \r\nL 250.987293 141.805714 \r\nz\r\n\" style=\"fill:#1f77b4;\"/>\r\n   </g>\r\n   <g id=\"patch_18\">\r\n    <path clip-path=\"url(#p920342ac6a)\" d=\"M 266.359194 224.64 \r\nL 278.656715 224.64 \r\nL 278.656715 183.222857 \r\nL 266.359194 183.222857 \r\nz\r\n\" style=\"fill:#1f77b4;\"/>\r\n   </g>\r\n   <g id=\"patch_19\">\r\n    <path clip-path=\"url(#p920342ac6a)\" d=\"M 281.731095 224.64 \r\nL 294.028616 224.64 \r\nL 294.028616 183.222857 \r\nL 281.731095 183.222857 \r\nz\r\n\" style=\"fill:#1f77b4;\"/>\r\n   </g>\r\n   <g id=\"patch_20\">\r\n    <path clip-path=\"url(#p920342ac6a)\" d=\"M 297.102996 224.64 \r\nL 309.400517 224.64 \r\nL 309.400517 183.222857 \r\nL 297.102996 183.222857 \r\nz\r\n\" style=\"fill:#1f77b4;\"/>\r\n   </g>\r\n   <g id=\"patch_21\">\r\n    <path clip-path=\"url(#p920342ac6a)\" d=\"M 312.474897 224.64 \r\nL 324.772417 224.64 \r\nL 324.772417 183.222857 \r\nL 312.474897 183.222857 \r\nz\r\n\" style=\"fill:#1f77b4;\"/>\r\n   </g>\r\n   <g id=\"patch_22\">\r\n    <path clip-path=\"url(#p920342ac6a)\" d=\"M 327.846798 224.64 \r\nL 340.144318 224.64 \r\nL 340.144318 17.554286 \r\nL 327.846798 17.554286 \r\nz\r\n\" style=\"fill:#1f77b4;\"/>\r\n   </g>\r\n   <g id=\"matplotlib.axis_1\">\r\n    <g id=\"xtick_1\">\r\n     <g id=\"line2d_1\">\r\n      <defs>\r\n       <path d=\"M 0 0 \r\nL 0 3.5 \r\n\" id=\"m4f1aba90e7\" style=\"stroke:#000000;stroke-width:0.8;\"/>\r\n      </defs>\r\n      <g>\r\n       <use style=\"stroke:#000000;stroke-width:0.8;\" x=\"48.078202\" xlink:href=\"#m4f1aba90e7\" y=\"224.64\"/>\r\n      </g>\r\n     </g>\r\n     <g id=\"text_1\">\r\n      <!-- &amp;c, -->\r\n      <defs>\r\n       <path d=\"M 24.3125 39.203125 \r\nQ 19.875 35.25 17.796875 31.3125 \r\nQ 15.71875 27.390625 15.71875 23.09375 \r\nQ 15.71875 15.96875 20.890625 11.234375 \r\nQ 26.078125 6.5 33.890625 6.5 \r\nQ 38.53125 6.5 42.578125 8.03125 \r\nQ 46.625 9.578125 50.203125 12.703125 \r\nz\r\nM 31.203125 44.671875 \r\nL 56 19.28125 \r\nQ 58.890625 23.640625 60.5 28.59375 \r\nQ 62.109375 33.546875 62.40625 39.109375 \r\nL 71.484375 39.109375 \r\nQ 70.90625 32.671875 68.359375 26.359375 \r\nQ 65.828125 20.0625 61.28125 13.921875 \r\nL 74.90625 0 \r\nL 62.59375 0 \r\nL 55.609375 7.171875 \r\nQ 50.53125 2.828125 44.96875 0.703125 \r\nQ 39.40625 -1.421875 33.015625 -1.421875 \r\nQ 21.234375 -1.421875 13.765625 5.296875 \r\nQ 6.296875 12.015625 6.296875 22.515625 \r\nQ 6.296875 28.765625 9.5625 34.25 \r\nQ 12.84375 39.75 19.390625 44.578125 \r\nQ 17.046875 47.65625 15.8125 50.703125 \r\nQ 14.59375 53.765625 14.59375 56.6875 \r\nQ 14.59375 64.59375 20.015625 69.40625 \r\nQ 25.4375 74.21875 34.421875 74.21875 \r\nQ 38.484375 74.21875 42.5 73.34375 \r\nQ 46.53125 72.46875 50.6875 70.703125 \r\nL 50.6875 61.8125 \r\nQ 46.4375 64.109375 42.578125 65.296875 \r\nQ 38.71875 66.5 35.40625 66.5 \r\nQ 30.28125 66.5 27.078125 63.78125 \r\nQ 23.875 61.078125 23.875 56.78125 \r\nQ 23.875 54.296875 25.3125 51.78125 \r\nQ 26.765625 49.265625 31.203125 44.671875 \r\nz\r\n\" id=\"DejaVuSans-38\"/>\r\n       <path d=\"M 48.78125 52.59375 \r\nL 48.78125 44.1875 \r\nQ 44.96875 46.296875 41.140625 47.34375 \r\nQ 37.3125 48.390625 33.40625 48.390625 \r\nQ 24.65625 48.390625 19.8125 42.84375 \r\nQ 14.984375 37.3125 14.984375 27.296875 \r\nQ 14.984375 17.28125 19.8125 11.734375 \r\nQ 24.65625 6.203125 33.40625 6.203125 \r\nQ 37.3125 6.203125 41.140625 7.25 \r\nQ 44.96875 8.296875 48.78125 10.40625 \r\nL 48.78125 2.09375 \r\nQ 45.015625 0.34375 40.984375 -0.53125 \r\nQ 36.96875 -1.421875 32.421875 -1.421875 \r\nQ 20.0625 -1.421875 12.78125 6.34375 \r\nQ 5.515625 14.109375 5.515625 27.296875 \r\nQ 5.515625 40.671875 12.859375 48.328125 \r\nQ 20.21875 56 33.015625 56 \r\nQ 37.15625 56 41.109375 55.140625 \r\nQ 45.0625 54.296875 48.78125 52.59375 \r\nz\r\n\" id=\"DejaVuSans-99\"/>\r\n       <path d=\"M 11.71875 12.40625 \r\nL 22.015625 12.40625 \r\nL 22.015625 4 \r\nL 14.015625 -11.625 \r\nL 7.71875 -11.625 \r\nL 11.71875 4 \r\nz\r\n\" id=\"DejaVuSans-44\"/>\r\n      </defs>\r\n      <g transform=\"translate(39.840702 239.238437)scale(0.1 -0.1)\">\r\n       <use xlink:href=\"#DejaVuSans-38\"/>\r\n       <use x=\"77.978516\" xlink:href=\"#DejaVuSans-99\"/>\r\n       <use x=\"132.958984\" xlink:href=\"#DejaVuSans-44\"/>\r\n      </g>\r\n     </g>\r\n    </g>\r\n    <g id=\"xtick_2\">\r\n     <g id=\"line2d_2\">\r\n      <g>\r\n       <use style=\"stroke:#000000;stroke-width:0.8;\" x=\"63.450103\" xlink:href=\"#m4f1aba90e7\" y=\"224.64\"/>\r\n      </g>\r\n     </g>\r\n     <g id=\"text_2\">\r\n      <!-- &amp;c.' -->\r\n      <defs>\r\n       <path d=\"M 10.6875 12.40625 \r\nL 21 12.40625 \r\nL 21 0 \r\nL 10.6875 0 \r\nz\r\n\" id=\"DejaVuSans-46\"/>\r\n       <path d=\"M 17.921875 72.90625 \r\nL 17.921875 45.796875 \r\nL 9.625 45.796875 \r\nL 9.625 72.90625 \r\nz\r\n\" id=\"DejaVuSans-39\"/>\r\n      </defs>\r\n      <g transform=\"translate(53.838385 239.238437)scale(0.1 -0.1)\">\r\n       <use xlink:href=\"#DejaVuSans-38\"/>\r\n       <use x=\"77.978516\" xlink:href=\"#DejaVuSans-99\"/>\r\n       <use x=\"132.958984\" xlink:href=\"#DejaVuSans-46\"/>\r\n       <use x=\"164.746094\" xlink:href=\"#DejaVuSans-39\"/>\r\n      </g>\r\n     </g>\r\n    </g>\r\n    <g id=\"xtick_3\">\r\n     <g id=\"line2d_3\">\r\n      <g>\r\n       <use style=\"stroke:#000000;stroke-width:0.8;\" x=\"78.822004\" xlink:href=\"#m4f1aba90e7\" y=\"224.64\"/>\r\n      </g>\r\n     </g>\r\n     <g id=\"text_3\">\r\n      <!-- &amp;c.] -->\r\n      <defs>\r\n       <path d=\"M 30.421875 75.984375 \r\nL 30.421875 -13.1875 \r\nL 9.71875 -13.1875 \r\nL 9.71875 -6.203125 \r\nL 21.390625 -6.203125 \r\nL 21.390625 69 \r\nL 9.71875 69 \r\nL 9.71875 75.984375 \r\nz\r\n\" id=\"DejaVuSans-93\"/>\r\n      </defs>\r\n      <g transform=\"translate(68.633723 239.238437)scale(0.1 -0.1)\">\r\n       <use xlink:href=\"#DejaVuSans-38\"/>\r\n       <use x=\"77.978516\" xlink:href=\"#DejaVuSans-99\"/>\r\n       <use x=\"132.958984\" xlink:href=\"#DejaVuSans-46\"/>\r\n       <use x=\"164.746094\" xlink:href=\"#DejaVuSans-93\"/>\r\n      </g>\r\n     </g>\r\n    </g>\r\n    <g id=\"xtick_4\">\r\n     <g id=\"line2d_4\">\r\n      <g>\r\n       <use style=\"stroke:#000000;stroke-width:0.8;\" x=\"94.193905\" xlink:href=\"#m4f1aba90e7\" y=\"224.64\"/>\r\n      </g>\r\n     </g>\r\n     <g id=\"text_4\">\r\n      <!-- ''tis -->\r\n      <defs>\r\n       <path d=\"M 18.3125 70.21875 \r\nL 18.3125 54.6875 \r\nL 36.8125 54.6875 \r\nL 36.8125 47.703125 \r\nL 18.3125 47.703125 \r\nL 18.3125 18.015625 \r\nQ 18.3125 11.328125 20.140625 9.421875 \r\nQ 21.96875 7.515625 27.59375 7.515625 \r\nL 36.8125 7.515625 \r\nL 36.8125 0 \r\nL 27.59375 0 \r\nQ 17.1875 0 13.234375 3.875 \r\nQ 9.28125 7.765625 9.28125 18.015625 \r\nL 9.28125 47.703125 \r\nL 2.6875 47.703125 \r\nL 2.6875 54.6875 \r\nL 9.28125 54.6875 \r\nL 9.28125 70.21875 \r\nz\r\n\" id=\"DejaVuSans-116\"/>\r\n       <path d=\"M 9.421875 54.6875 \r\nL 18.40625 54.6875 \r\nL 18.40625 0 \r\nL 9.421875 0 \r\nz\r\nM 9.421875 75.984375 \r\nL 18.40625 75.984375 \r\nL 18.40625 64.59375 \r\nL 9.421875 64.59375 \r\nz\r\n\" id=\"DejaVuSans-105\"/>\r\n       <path d=\"M 44.28125 53.078125 \r\nL 44.28125 44.578125 \r\nQ 40.484375 46.53125 36.375 47.5 \r\nQ 32.28125 48.484375 27.875 48.484375 \r\nQ 21.1875 48.484375 17.84375 46.4375 \r\nQ 14.5 44.390625 14.5 40.28125 \r\nQ 14.5 37.15625 16.890625 35.375 \r\nQ 19.28125 33.59375 26.515625 31.984375 \r\nL 29.59375 31.296875 \r\nQ 39.15625 29.25 43.1875 25.515625 \r\nQ 47.21875 21.78125 47.21875 15.09375 \r\nQ 47.21875 7.46875 41.1875 3.015625 \r\nQ 35.15625 -1.421875 24.609375 -1.421875 \r\nQ 20.21875 -1.421875 15.453125 -0.5625 \r\nQ 10.6875 0.296875 5.421875 2 \r\nL 5.421875 11.28125 \r\nQ 10.40625 8.6875 15.234375 7.390625 \r\nQ 20.0625 6.109375 24.8125 6.109375 \r\nQ 31.15625 6.109375 34.5625 8.28125 \r\nQ 37.984375 10.453125 37.984375 14.40625 \r\nQ 37.984375 18.0625 35.515625 20.015625 \r\nQ 33.0625 21.96875 24.703125 23.78125 \r\nL 21.578125 24.515625 \r\nQ 13.234375 26.265625 9.515625 29.90625 \r\nQ 5.8125 33.546875 5.8125 39.890625 \r\nQ 5.8125 47.609375 11.28125 51.796875 \r\nQ 16.75 56 26.8125 56 \r\nQ 31.78125 56 36.171875 55.265625 \r\nQ 40.578125 54.546875 44.28125 53.078125 \r\nz\r\n\" id=\"DejaVuSans-115\"/>\r\n      </defs>\r\n      <g transform=\"translate(85.491561 239.238437)scale(0.1 -0.1)\">\r\n       <use xlink:href=\"#DejaVuSans-39\"/>\r\n       <use x=\"27.490234\" xlink:href=\"#DejaVuSans-39\"/>\r\n       <use x=\"54.980469\" xlink:href=\"#DejaVuSans-116\"/>\r\n       <use x=\"94.189453\" xlink:href=\"#DejaVuSans-105\"/>\r\n       <use x=\"121.972656\" xlink:href=\"#DejaVuSans-115\"/>\r\n      </g>\r\n     </g>\r\n    </g>\r\n    <g id=\"xtick_5\">\r\n     <g id=\"line2d_5\">\r\n      <g>\r\n       <use style=\"stroke:#000000;stroke-width:0.8;\" x=\"109.565806\" xlink:href=\"#m4f1aba90e7\" y=\"224.64\"/>\r\n      </g>\r\n     </g>\r\n     <g id=\"text_5\">\r\n      <!-- 'a -->\r\n      <defs>\r\n       <path d=\"M 34.28125 27.484375 \r\nQ 23.390625 27.484375 19.1875 25 \r\nQ 14.984375 22.515625 14.984375 16.5 \r\nQ 14.984375 11.71875 18.140625 8.90625 \r\nQ 21.296875 6.109375 26.703125 6.109375 \r\nQ 34.1875 6.109375 38.703125 11.40625 \r\nQ 43.21875 16.703125 43.21875 25.484375 \r\nL 43.21875 27.484375 \r\nz\r\nM 52.203125 31.203125 \r\nL 52.203125 0 \r\nL 43.21875 0 \r\nL 43.21875 8.296875 \r\nQ 40.140625 3.328125 35.546875 0.953125 \r\nQ 30.953125 -1.421875 24.3125 -1.421875 \r\nQ 15.921875 -1.421875 10.953125 3.296875 \r\nQ 6 8.015625 6 15.921875 \r\nQ 6 25.140625 12.171875 29.828125 \r\nQ 18.359375 34.515625 30.609375 34.515625 \r\nL 43.21875 34.515625 \r\nL 43.21875 35.40625 \r\nQ 43.21875 41.609375 39.140625 45 \r\nQ 35.0625 48.390625 27.6875 48.390625 \r\nQ 23 48.390625 18.546875 47.265625 \r\nQ 14.109375 46.140625 10.015625 43.890625 \r\nL 10.015625 52.203125 \r\nQ 14.9375 54.109375 19.578125 55.046875 \r\nQ 24.21875 56 28.609375 56 \r\nQ 40.484375 56 46.34375 49.84375 \r\nQ 52.203125 43.703125 52.203125 31.203125 \r\nz\r\n\" id=\"DejaVuSans-97\"/>\r\n      </defs>\r\n      <g transform=\"translate(105.127525 239.238437)scale(0.1 -0.1)\">\r\n       <use xlink:href=\"#DejaVuSans-39\"/>\r\n       <use x=\"27.490234\" xlink:href=\"#DejaVuSans-97\"/>\r\n      </g>\r\n     </g>\r\n    </g>\r\n    <g id=\"xtick_6\">\r\n     <g id=\"line2d_6\">\r\n      <g>\r\n       <use style=\"stroke:#000000;stroke-width:0.8;\" x=\"124.937707\" xlink:href=\"#m4f1aba90e7\" y=\"224.64\"/>\r\n      </g>\r\n     </g>\r\n     <g id=\"text_6\">\r\n      <!-- 'adieu, -->\r\n      <defs>\r\n       <path d=\"M 45.40625 46.390625 \r\nL 45.40625 75.984375 \r\nL 54.390625 75.984375 \r\nL 54.390625 0 \r\nL 45.40625 0 \r\nL 45.40625 8.203125 \r\nQ 42.578125 3.328125 38.25 0.953125 \r\nQ 33.9375 -1.421875 27.875 -1.421875 \r\nQ 17.96875 -1.421875 11.734375 6.484375 \r\nQ 5.515625 14.40625 5.515625 27.296875 \r\nQ 5.515625 40.1875 11.734375 48.09375 \r\nQ 17.96875 56 27.875 56 \r\nQ 33.9375 56 38.25 53.625 \r\nQ 42.578125 51.265625 45.40625 46.390625 \r\nz\r\nM 14.796875 27.296875 \r\nQ 14.796875 17.390625 18.875 11.75 \r\nQ 22.953125 6.109375 30.078125 6.109375 \r\nQ 37.203125 6.109375 41.296875 11.75 \r\nQ 45.40625 17.390625 45.40625 27.296875 \r\nQ 45.40625 37.203125 41.296875 42.84375 \r\nQ 37.203125 48.484375 30.078125 48.484375 \r\nQ 22.953125 48.484375 18.875 42.84375 \r\nQ 14.796875 37.203125 14.796875 27.296875 \r\nz\r\n\" id=\"DejaVuSans-100\"/>\r\n       <path d=\"M 56.203125 29.59375 \r\nL 56.203125 25.203125 \r\nL 14.890625 25.203125 \r\nQ 15.484375 15.921875 20.484375 11.0625 \r\nQ 25.484375 6.203125 34.421875 6.203125 \r\nQ 39.59375 6.203125 44.453125 7.46875 \r\nQ 49.3125 8.734375 54.109375 11.28125 \r\nL 54.109375 2.78125 \r\nQ 49.265625 0.734375 44.1875 -0.34375 \r\nQ 39.109375 -1.421875 33.890625 -1.421875 \r\nQ 20.796875 -1.421875 13.15625 6.1875 \r\nQ 5.515625 13.8125 5.515625 26.8125 \r\nQ 5.515625 40.234375 12.765625 48.109375 \r\nQ 20.015625 56 32.328125 56 \r\nQ 43.359375 56 49.78125 48.890625 \r\nQ 56.203125 41.796875 56.203125 29.59375 \r\nz\r\nM 47.21875 32.234375 \r\nQ 47.125 39.59375 43.09375 43.984375 \r\nQ 39.0625 48.390625 32.421875 48.390625 \r\nQ 24.90625 48.390625 20.390625 44.140625 \r\nQ 15.875 39.890625 15.1875 32.171875 \r\nz\r\n\" id=\"DejaVuSans-101\"/>\r\n       <path d=\"M 8.5 21.578125 \r\nL 8.5 54.6875 \r\nL 17.484375 54.6875 \r\nL 17.484375 21.921875 \r\nQ 17.484375 14.15625 20.5 10.265625 \r\nQ 23.53125 6.390625 29.59375 6.390625 \r\nQ 36.859375 6.390625 41.078125 11.03125 \r\nQ 45.3125 15.671875 45.3125 23.6875 \r\nL 45.3125 54.6875 \r\nL 54.296875 54.6875 \r\nL 54.296875 0 \r\nL 45.3125 0 \r\nL 45.3125 8.40625 \r\nQ 42.046875 3.421875 37.71875 1 \r\nQ 33.40625 -1.421875 27.6875 -1.421875 \r\nQ 18.265625 -1.421875 13.375 4.4375 \r\nQ 8.5 10.296875 8.5 21.578125 \r\nz\r\nM 31.109375 56 \r\nz\r\n\" id=\"DejaVuSans-117\"/>\r\n      </defs>\r\n      <g transform=\"translate(108.101769 239.238437)scale(0.1 -0.1)\">\r\n       <use xlink:href=\"#DejaVuSans-39\"/>\r\n       <use x=\"27.490234\" xlink:href=\"#DejaVuSans-97\"/>\r\n       <use x=\"88.769531\" xlink:href=\"#DejaVuSans-100\"/>\r\n       <use x=\"152.246094\" xlink:href=\"#DejaVuSans-105\"/>\r\n       <use x=\"180.029297\" xlink:href=\"#DejaVuSans-101\"/>\r\n       <use x=\"241.552734\" xlink:href=\"#DejaVuSans-117\"/>\r\n       <use x=\"304.931641\" xlink:href=\"#DejaVuSans-44\"/>\r\n      </g>\r\n     </g>\r\n    </g>\r\n    <g id=\"xtick_7\">\r\n     <g id=\"line2d_7\">\r\n      <g>\r\n       <use style=\"stroke:#000000;stroke-width:0.8;\" x=\"140.309607\" xlink:href=\"#m4f1aba90e7\" y=\"224.64\"/>\r\n      </g>\r\n     </g>\r\n     <g id=\"text_7\">\r\n      <!-- 'alone.' -->\r\n      <defs>\r\n       <path d=\"M 9.421875 75.984375 \r\nL 18.40625 75.984375 \r\nL 18.40625 0 \r\nL 9.421875 0 \r\nz\r\n\" id=\"DejaVuSans-108\"/>\r\n       <path d=\"M 30.609375 48.390625 \r\nQ 23.390625 48.390625 19.1875 42.75 \r\nQ 14.984375 37.109375 14.984375 27.296875 \r\nQ 14.984375 17.484375 19.15625 11.84375 \r\nQ 23.34375 6.203125 30.609375 6.203125 \r\nQ 37.796875 6.203125 41.984375 11.859375 \r\nQ 46.1875 17.53125 46.1875 27.296875 \r\nQ 46.1875 37.015625 41.984375 42.703125 \r\nQ 37.796875 48.390625 30.609375 48.390625 \r\nz\r\nM 30.609375 56 \r\nQ 42.328125 56 49.015625 48.375 \r\nQ 55.71875 40.765625 55.71875 27.296875 \r\nQ 55.71875 13.875 49.015625 6.21875 \r\nQ 42.328125 -1.421875 30.609375 -1.421875 \r\nQ 18.84375 -1.421875 12.171875 6.21875 \r\nQ 5.515625 13.875 5.515625 27.296875 \r\nQ 5.515625 40.765625 12.171875 48.375 \r\nQ 18.84375 56 30.609375 56 \r\nz\r\n\" id=\"DejaVuSans-111\"/>\r\n       <path d=\"M 54.890625 33.015625 \r\nL 54.890625 0 \r\nL 45.90625 0 \r\nL 45.90625 32.71875 \r\nQ 45.90625 40.484375 42.875 44.328125 \r\nQ 39.84375 48.1875 33.796875 48.1875 \r\nQ 26.515625 48.1875 22.3125 43.546875 \r\nQ 18.109375 38.921875 18.109375 30.90625 \r\nL 18.109375 0 \r\nL 9.078125 0 \r\nL 9.078125 54.6875 \r\nL 18.109375 54.6875 \r\nL 18.109375 46.1875 \r\nQ 21.34375 51.125 25.703125 53.5625 \r\nQ 30.078125 56 35.796875 56 \r\nQ 45.21875 56 50.046875 50.171875 \r\nQ 54.890625 44.34375 54.890625 33.015625 \r\nz\r\n\" id=\"DejaVuSans-110\"/>\r\n      </defs>\r\n      <g transform=\"translate(122.214295 239.238437)scale(0.1 -0.1)\">\r\n       <use xlink:href=\"#DejaVuSans-39\"/>\r\n       <use x=\"27.490234\" xlink:href=\"#DejaVuSans-97\"/>\r\n       <use x=\"88.769531\" xlink:href=\"#DejaVuSans-108\"/>\r\n       <use x=\"116.552734\" xlink:href=\"#DejaVuSans-111\"/>\r\n       <use x=\"177.734375\" xlink:href=\"#DejaVuSans-110\"/>\r\n       <use x=\"241.113281\" xlink:href=\"#DejaVuSans-101\"/>\r\n       <use x=\"302.636719\" xlink:href=\"#DejaVuSans-46\"/>\r\n       <use x=\"334.423828\" xlink:href=\"#DejaVuSans-39\"/>\r\n      </g>\r\n     </g>\r\n    </g>\r\n    <g id=\"xtick_8\">\r\n     <g id=\"line2d_8\">\r\n      <g>\r\n       <use style=\"stroke:#000000;stroke-width:0.8;\" x=\"155.681508\" xlink:href=\"#m4f1aba90e7\" y=\"224.64\"/>\r\n      </g>\r\n     </g>\r\n     <g id=\"text_8\">\r\n      <!-- 'and -->\r\n      <g transform=\"translate(144.900258 239.238437)scale(0.1 -0.1)\">\r\n       <use xlink:href=\"#DejaVuSans-39\"/>\r\n       <use x=\"27.490234\" xlink:href=\"#DejaVuSans-97\"/>\r\n       <use x=\"88.769531\" xlink:href=\"#DejaVuSans-110\"/>\r\n       <use x=\"152.148438\" xlink:href=\"#DejaVuSans-100\"/>\r\n      </g>\r\n     </g>\r\n    </g>\r\n    <g id=\"xtick_9\">\r\n     <g id=\"line2d_9\">\r\n      <g>\r\n       <use style=\"stroke:#000000;stroke-width:0.8;\" x=\"171.053409\" xlink:href=\"#m4f1aba90e7\" y=\"224.64\"/>\r\n      </g>\r\n     </g>\r\n     <g id=\"text_9\">\r\n      <!-- 'as -->\r\n      <g transform=\"translate(164.01044 239.238437)scale(0.1 -0.1)\">\r\n       <use xlink:href=\"#DejaVuSans-39\"/>\r\n       <use x=\"27.490234\" xlink:href=\"#DejaVuSans-97\"/>\r\n       <use x=\"88.769531\" xlink:href=\"#DejaVuSans-115\"/>\r\n      </g>\r\n     </g>\r\n    </g>\r\n    <g id=\"xtick_10\">\r\n     <g id=\"line2d_10\">\r\n      <g>\r\n       <use style=\"stroke:#000000;stroke-width:0.8;\" x=\"186.42531\" xlink:href=\"#m4f1aba90e7\" y=\"224.64\"/>\r\n      </g>\r\n     </g>\r\n     <g id=\"text_10\">\r\n      <!-- 'beautified' -->\r\n      <defs>\r\n       <path d=\"M 48.6875 27.296875 \r\nQ 48.6875 37.203125 44.609375 42.84375 \r\nQ 40.53125 48.484375 33.40625 48.484375 \r\nQ 26.265625 48.484375 22.1875 42.84375 \r\nQ 18.109375 37.203125 18.109375 27.296875 \r\nQ 18.109375 17.390625 22.1875 11.75 \r\nQ 26.265625 6.109375 33.40625 6.109375 \r\nQ 40.53125 6.109375 44.609375 11.75 \r\nQ 48.6875 17.390625 48.6875 27.296875 \r\nz\r\nM 18.109375 46.390625 \r\nQ 20.953125 51.265625 25.265625 53.625 \r\nQ 29.59375 56 35.59375 56 \r\nQ 45.5625 56 51.78125 48.09375 \r\nQ 58.015625 40.1875 58.015625 27.296875 \r\nQ 58.015625 14.40625 51.78125 6.484375 \r\nQ 45.5625 -1.421875 35.59375 -1.421875 \r\nQ 29.59375 -1.421875 25.265625 0.953125 \r\nQ 20.953125 3.328125 18.109375 8.203125 \r\nL 18.109375 0 \r\nL 9.078125 0 \r\nL 9.078125 75.984375 \r\nL 18.109375 75.984375 \r\nz\r\n\" id=\"DejaVuSans-98\"/>\r\n       <path d=\"M 37.109375 75.984375 \r\nL 37.109375 68.5 \r\nL 28.515625 68.5 \r\nQ 23.6875 68.5 21.796875 66.546875 \r\nQ 19.921875 64.59375 19.921875 59.515625 \r\nL 19.921875 54.6875 \r\nL 34.71875 54.6875 \r\nL 34.71875 47.703125 \r\nL 19.921875 47.703125 \r\nL 19.921875 0 \r\nL 10.890625 0 \r\nL 10.890625 47.703125 \r\nL 2.296875 47.703125 \r\nL 2.296875 54.6875 \r\nL 10.890625 54.6875 \r\nL 10.890625 58.5 \r\nQ 10.890625 67.625 15.140625 71.796875 \r\nQ 19.390625 75.984375 28.609375 75.984375 \r\nz\r\n\" id=\"DejaVuSans-102\"/>\r\n      </defs>\r\n      <g transform=\"translate(158.44406 239.238437)scale(0.1 -0.1)\">\r\n       <use xlink:href=\"#DejaVuSans-39\"/>\r\n       <use x=\"27.490234\" xlink:href=\"#DejaVuSans-98\"/>\r\n       <use x=\"90.966797\" xlink:href=\"#DejaVuSans-101\"/>\r\n       <use x=\"152.490234\" xlink:href=\"#DejaVuSans-97\"/>\r\n       <use x=\"213.769531\" xlink:href=\"#DejaVuSans-117\"/>\r\n       <use x=\"277.148438\" xlink:href=\"#DejaVuSans-116\"/>\r\n       <use x=\"316.357422\" xlink:href=\"#DejaVuSans-105\"/>\r\n       <use x=\"344.140625\" xlink:href=\"#DejaVuSans-102\"/>\r\n       <use x=\"379.345703\" xlink:href=\"#DejaVuSans-105\"/>\r\n       <use x=\"407.128906\" xlink:href=\"#DejaVuSans-101\"/>\r\n       <use x=\"468.652344\" xlink:href=\"#DejaVuSans-100\"/>\r\n       <use x=\"532.128906\" xlink:href=\"#DejaVuSans-39\"/>\r\n      </g>\r\n     </g>\r\n    </g>\r\n    <g id=\"xtick_11\">\r\n     <g id=\"line2d_11\">\r\n      <g>\r\n       <use style=\"stroke:#000000;stroke-width:0.8;\" x=\"201.797211\" xlink:href=\"#m4f1aba90e7\" y=\"224.64\"/>\r\n      </g>\r\n     </g>\r\n     <g id=\"text_11\">\r\n      <!-- 'choose -->\r\n      <defs>\r\n       <path d=\"M 54.890625 33.015625 \r\nL 54.890625 0 \r\nL 45.90625 0 \r\nL 45.90625 32.71875 \r\nQ 45.90625 40.484375 42.875 44.328125 \r\nQ 39.84375 48.1875 33.796875 48.1875 \r\nQ 26.515625 48.1875 22.3125 43.546875 \r\nQ 18.109375 38.921875 18.109375 30.90625 \r\nL 18.109375 0 \r\nL 9.078125 0 \r\nL 9.078125 75.984375 \r\nL 18.109375 75.984375 \r\nL 18.109375 46.1875 \r\nQ 21.34375 51.125 25.703125 53.5625 \r\nQ 30.078125 56 35.796875 56 \r\nQ 45.21875 56 50.046875 50.171875 \r\nQ 54.890625 44.34375 54.890625 33.015625 \r\nz\r\n\" id=\"DejaVuSans-104\"/>\r\n      </defs>\r\n      <g transform=\"translate(182.705023 239.238437)scale(0.1 -0.1)\">\r\n       <use xlink:href=\"#DejaVuSans-39\"/>\r\n       <use x=\"27.490234\" xlink:href=\"#DejaVuSans-99\"/>\r\n       <use x=\"82.470703\" xlink:href=\"#DejaVuSans-104\"/>\r\n       <use x=\"145.849609\" xlink:href=\"#DejaVuSans-111\"/>\r\n       <use x=\"207.03125\" xlink:href=\"#DejaVuSans-111\"/>\r\n       <use x=\"268.212891\" xlink:href=\"#DejaVuSans-115\"/>\r\n       <use x=\"320.3125\" xlink:href=\"#DejaVuSans-101\"/>\r\n      </g>\r\n     </g>\r\n    </g>\r\n    <g id=\"xtick_12\">\r\n     <g id=\"line2d_12\">\r\n      <g>\r\n       <use style=\"stroke:#000000;stroke-width:0.8;\" x=\"217.169112\" xlink:href=\"#m4f1aba90e7\" y=\"224.64\"/>\r\n      </g>\r\n     </g>\r\n     <g id=\"text_12\">\r\n      <!-- 'closes -->\r\n      <g transform=\"translate(200.311299 239.238437)scale(0.1 -0.1)\">\r\n       <use xlink:href=\"#DejaVuSans-39\"/>\r\n       <use x=\"27.490234\" xlink:href=\"#DejaVuSans-99\"/>\r\n       <use x=\"82.470703\" xlink:href=\"#DejaVuSans-108\"/>\r\n       <use x=\"110.253906\" xlink:href=\"#DejaVuSans-111\"/>\r\n       <use x=\"171.435547\" xlink:href=\"#DejaVuSans-115\"/>\r\n       <use x=\"223.535156\" xlink:href=\"#DejaVuSans-101\"/>\r\n       <use x=\"285.058594\" xlink:href=\"#DejaVuSans-115\"/>\r\n      </g>\r\n     </g>\r\n    </g>\r\n    <g id=\"xtick_13\">\r\n     <g id=\"line2d_13\">\r\n      <g>\r\n       <use style=\"stroke:#000000;stroke-width:0.8;\" x=\"232.541012\" xlink:href=\"#m4f1aba90e7\" y=\"224.64\"/>\r\n      </g>\r\n     </g>\r\n     <g id=\"text_13\">\r\n      <!-- 'doubt -->\r\n      <g transform=\"translate(216.630075 239.238437)scale(0.1 -0.1)\">\r\n       <use xlink:href=\"#DejaVuSans-39\"/>\r\n       <use x=\"27.490234\" xlink:href=\"#DejaVuSans-100\"/>\r\n       <use x=\"90.966797\" xlink:href=\"#DejaVuSans-111\"/>\r\n       <use x=\"152.148438\" xlink:href=\"#DejaVuSans-117\"/>\r\n       <use x=\"215.527344\" xlink:href=\"#DejaVuSans-98\"/>\r\n       <use x=\"279.003906\" xlink:href=\"#DejaVuSans-116\"/>\r\n      </g>\r\n     </g>\r\n    </g>\r\n    <g id=\"xtick_14\">\r\n     <g id=\"line2d_14\">\r\n      <g>\r\n       <use style=\"stroke:#000000;stroke-width:0.8;\" x=\"247.912913\" xlink:href=\"#m4f1aba90e7\" y=\"224.64\"/>\r\n      </g>\r\n     </g>\r\n     <g id=\"text_14\">\r\n      <!-- 'down -->\r\n      <defs>\r\n       <path d=\"M 4.203125 54.6875 \r\nL 13.1875 54.6875 \r\nL 24.421875 12.015625 \r\nL 35.59375 54.6875 \r\nL 46.1875 54.6875 \r\nL 57.421875 12.015625 \r\nL 68.609375 54.6875 \r\nL 77.59375 54.6875 \r\nL 63.28125 0 \r\nL 52.6875 0 \r\nL 40.921875 44.828125 \r\nL 29.109375 0 \r\nL 18.5 0 \r\nz\r\n\" id=\"DejaVuSans-119\"/>\r\n      </defs>\r\n      <g transform=\"translate(233.047288 239.238437)scale(0.1 -0.1)\">\r\n       <use xlink:href=\"#DejaVuSans-39\"/>\r\n       <use x=\"27.490234\" xlink:href=\"#DejaVuSans-100\"/>\r\n       <use x=\"90.966797\" xlink:href=\"#DejaVuSans-111\"/>\r\n       <use x=\"152.148438\" xlink:href=\"#DejaVuSans-119\"/>\r\n       <use x=\"233.935547\" xlink:href=\"#DejaVuSans-110\"/>\r\n      </g>\r\n     </g>\r\n    </g>\r\n    <g id=\"xtick_15\">\r\n     <g id=\"line2d_15\">\r\n      <g>\r\n       <use style=\"stroke:#000000;stroke-width:0.8;\" x=\"263.284814\" xlink:href=\"#m4f1aba90e7\" y=\"224.64\"/>\r\n      </g>\r\n     </g>\r\n     <g id=\"text_15\">\r\n      <!-- 'em? -->\r\n      <defs>\r\n       <path d=\"M 52 44.1875 \r\nQ 55.375 50.25 60.0625 53.125 \r\nQ 64.75 56 71.09375 56 \r\nQ 79.640625 56 84.28125 50.015625 \r\nQ 88.921875 44.046875 88.921875 33.015625 \r\nL 88.921875 0 \r\nL 79.890625 0 \r\nL 79.890625 32.71875 \r\nQ 79.890625 40.578125 77.09375 44.375 \r\nQ 74.3125 48.1875 68.609375 48.1875 \r\nQ 61.625 48.1875 57.5625 43.546875 \r\nQ 53.515625 38.921875 53.515625 30.90625 \r\nL 53.515625 0 \r\nL 44.484375 0 \r\nL 44.484375 32.71875 \r\nQ 44.484375 40.625 41.703125 44.40625 \r\nQ 38.921875 48.1875 33.109375 48.1875 \r\nQ 26.21875 48.1875 22.15625 43.53125 \r\nQ 18.109375 38.875 18.109375 30.90625 \r\nL 18.109375 0 \r\nL 9.078125 0 \r\nL 9.078125 54.6875 \r\nL 18.109375 54.6875 \r\nL 18.109375 46.1875 \r\nQ 21.1875 51.21875 25.484375 53.609375 \r\nQ 29.78125 56 35.6875 56 \r\nQ 41.65625 56 45.828125 52.96875 \r\nQ 50 49.953125 52 44.1875 \r\nz\r\n\" id=\"DejaVuSans-109\"/>\r\n       <path d=\"M 19.09375 12.40625 \r\nL 29 12.40625 \r\nL 29 0 \r\nL 19.09375 0 \r\nz\r\nM 28.71875 19.578125 \r\nL 19.390625 19.578125 \r\nL 19.390625 27.09375 \r\nQ 19.390625 32.03125 20.75 35.203125 \r\nQ 22.125 38.375 26.515625 42.578125 \r\nL 30.90625 46.921875 \r\nQ 33.6875 49.515625 34.9375 51.8125 \r\nQ 36.1875 54.109375 36.1875 56.5 \r\nQ 36.1875 60.84375 32.984375 63.53125 \r\nQ 29.78125 66.21875 24.515625 66.21875 \r\nQ 20.65625 66.21875 16.28125 64.5 \r\nQ 11.921875 62.796875 7.171875 59.515625 \r\nL 7.171875 68.703125 \r\nQ 11.765625 71.484375 16.46875 72.84375 \r\nQ 21.1875 74.21875 26.21875 74.21875 \r\nQ 35.203125 74.21875 40.640625 69.484375 \r\nQ 46.09375 64.75 46.09375 56.984375 \r\nQ 46.09375 53.265625 44.328125 49.921875 \r\nQ 42.578125 46.578125 38.1875 42.390625 \r\nL 33.890625 38.1875 \r\nQ 31.59375 35.890625 30.640625 34.59375 \r\nQ 29.6875 33.296875 29.296875 32.078125 \r\nQ 29 31.0625 28.859375 29.59375 \r\nQ 28.71875 28.125 28.71875 25.59375 \r\nz\r\n\" id=\"DejaVuSans-63\"/>\r\n      </defs>\r\n      <g transform=\"translate(251.309814 239.238437)scale(0.1 -0.1)\">\r\n       <use xlink:href=\"#DejaVuSans-39\"/>\r\n       <use x=\"27.490234\" xlink:href=\"#DejaVuSans-101\"/>\r\n       <use x=\"89.013672\" xlink:href=\"#DejaVuSans-109\"/>\r\n       <use x=\"186.425781\" xlink:href=\"#DejaVuSans-63\"/>\r\n      </g>\r\n     </g>\r\n    </g>\r\n    <g id=\"xtick_16\">\r\n     <g id=\"line2d_16\">\r\n      <g>\r\n       <use style=\"stroke:#000000;stroke-width:0.8;\" x=\"278.656715\" xlink:href=\"#m4f1aba90e7\" y=\"224.64\"/>\r\n      </g>\r\n     </g>\r\n     <g id=\"text_16\">\r\n      <!-- 'for, -->\r\n      <defs>\r\n       <path d=\"M 41.109375 46.296875 \r\nQ 39.59375 47.171875 37.8125 47.578125 \r\nQ 36.03125 48 33.890625 48 \r\nQ 26.265625 48 22.1875 43.046875 \r\nQ 18.109375 38.09375 18.109375 28.8125 \r\nL 18.109375 0 \r\nL 9.078125 0 \r\nL 9.078125 54.6875 \r\nL 18.109375 54.6875 \r\nL 18.109375 46.1875 \r\nQ 20.953125 51.171875 25.484375 53.578125 \r\nQ 30.03125 56 36.53125 56 \r\nQ 37.453125 56 38.578125 55.875 \r\nQ 39.703125 55.765625 41.0625 55.515625 \r\nz\r\n\" id=\"DejaVuSans-114\"/>\r\n      </defs>\r\n      <g transform=\"translate(268.818434 239.238437)scale(0.1 -0.1)\">\r\n       <use xlink:href=\"#DejaVuSans-39\"/>\r\n       <use x=\"27.490234\" xlink:href=\"#DejaVuSans-102\"/>\r\n       <use x=\"62.695312\" xlink:href=\"#DejaVuSans-111\"/>\r\n       <use x=\"123.876953\" xlink:href=\"#DejaVuSans-114\"/>\r\n       <use x=\"164.990234\" xlink:href=\"#DejaVuSans-44\"/>\r\n      </g>\r\n     </g>\r\n    </g>\r\n    <g id=\"xtick_17\">\r\n     <g id=\"line2d_17\">\r\n      <g>\r\n       <use style=\"stroke:#000000;stroke-width:0.8;\" x=\"294.028616\" xlink:href=\"#m4f1aba90e7\" y=\"224.64\"/>\r\n      </g>\r\n     </g>\r\n     <g id=\"text_17\">\r\n      <!-- 'fore -->\r\n      <g transform=\"translate(282.704397 239.238437)scale(0.1 -0.1)\">\r\n       <use xlink:href=\"#DejaVuSans-39\"/>\r\n       <use x=\"27.490234\" xlink:href=\"#DejaVuSans-102\"/>\r\n       <use x=\"62.695312\" xlink:href=\"#DejaVuSans-111\"/>\r\n       <use x=\"123.876953\" xlink:href=\"#DejaVuSans-114\"/>\r\n       <use x=\"164.958984\" xlink:href=\"#DejaVuSans-101\"/>\r\n      </g>\r\n     </g>\r\n    </g>\r\n    <g id=\"xtick_18\">\r\n     <g id=\"line2d_18\">\r\n      <g>\r\n       <use style=\"stroke:#000000;stroke-width:0.8;\" x=\"309.400517\" xlink:href=\"#m4f1aba90e7\" y=\"224.64\"/>\r\n      </g>\r\n     </g>\r\n     <g id=\"text_18\">\r\n      <!-- 'friend -->\r\n      <g transform=\"translate(293.402079 239.238437)scale(0.1 -0.1)\">\r\n       <use xlink:href=\"#DejaVuSans-39\"/>\r\n       <use x=\"27.490234\" xlink:href=\"#DejaVuSans-102\"/>\r\n       <use x=\"62.695312\" xlink:href=\"#DejaVuSans-114\"/>\r\n       <use x=\"103.808594\" xlink:href=\"#DejaVuSans-105\"/>\r\n       <use x=\"131.591797\" xlink:href=\"#DejaVuSans-101\"/>\r\n       <use x=\"193.115234\" xlink:href=\"#DejaVuSans-110\"/>\r\n       <use x=\"256.494141\" xlink:href=\"#DejaVuSans-100\"/>\r\n      </g>\r\n     </g>\r\n    </g>\r\n    <g id=\"xtick_19\">\r\n     <g id=\"line2d_19\">\r\n      <g>\r\n       <use style=\"stroke:#000000;stroke-width:0.8;\" x=\"324.772417\" xlink:href=\"#m4f1aba90e7\" y=\"224.64\"/>\r\n      </g>\r\n     </g>\r\n     <g id=\"text_19\">\r\n      <!-- 'friend,' -->\r\n      <g transform=\"translate(305.810699 239.238437)scale(0.1 -0.1)\">\r\n       <use xlink:href=\"#DejaVuSans-39\"/>\r\n       <use x=\"27.490234\" xlink:href=\"#DejaVuSans-102\"/>\r\n       <use x=\"62.695312\" xlink:href=\"#DejaVuSans-114\"/>\r\n       <use x=\"103.808594\" xlink:href=\"#DejaVuSans-105\"/>\r\n       <use x=\"131.591797\" xlink:href=\"#DejaVuSans-101\"/>\r\n       <use x=\"193.115234\" xlink:href=\"#DejaVuSans-110\"/>\r\n       <use x=\"256.494141\" xlink:href=\"#DejaVuSans-100\"/>\r\n       <use x=\"319.970703\" xlink:href=\"#DejaVuSans-44\"/>\r\n       <use x=\"351.757812\" xlink:href=\"#DejaVuSans-39\"/>\r\n      </g>\r\n     </g>\r\n    </g>\r\n    <g id=\"xtick_20\">\r\n     <g id=\"line2d_20\">\r\n      <g>\r\n       <use style=\"stroke:#000000;stroke-width:0.8;\" x=\"340.144318\" xlink:href=\"#m4f1aba90e7\" y=\"224.64\"/>\r\n      </g>\r\n     </g>\r\n     <g id=\"text_20\">\r\n      <!-- 'gainst -->\r\n      <defs>\r\n       <path d=\"M 45.40625 27.984375 \r\nQ 45.40625 37.75 41.375 43.109375 \r\nQ 37.359375 48.484375 30.078125 48.484375 \r\nQ 22.859375 48.484375 18.828125 43.109375 \r\nQ 14.796875 37.75 14.796875 27.984375 \r\nQ 14.796875 18.265625 18.828125 12.890625 \r\nQ 22.859375 7.515625 30.078125 7.515625 \r\nQ 37.359375 7.515625 41.375 12.890625 \r\nQ 45.40625 18.265625 45.40625 27.984375 \r\nz\r\nM 54.390625 6.78125 \r\nQ 54.390625 -7.171875 48.1875 -13.984375 \r\nQ 42 -20.796875 29.203125 -20.796875 \r\nQ 24.46875 -20.796875 20.265625 -20.09375 \r\nQ 16.0625 -19.390625 12.109375 -17.921875 \r\nL 12.109375 -9.1875 \r\nQ 16.0625 -11.328125 19.921875 -12.34375 \r\nQ 23.78125 -13.375 27.78125 -13.375 \r\nQ 36.625 -13.375 41.015625 -8.765625 \r\nQ 45.40625 -4.15625 45.40625 5.171875 \r\nL 45.40625 9.625 \r\nQ 42.625 4.78125 38.28125 2.390625 \r\nQ 33.9375 0 27.875 0 \r\nQ 17.828125 0 11.671875 7.65625 \r\nQ 5.515625 15.328125 5.515625 27.984375 \r\nQ 5.515625 40.671875 11.671875 48.328125 \r\nQ 17.828125 56 27.875 56 \r\nQ 33.9375 56 38.28125 53.609375 \r\nQ 42.625 51.21875 45.40625 46.390625 \r\nL 45.40625 54.6875 \r\nL 54.390625 54.6875 \r\nz\r\n\" id=\"DejaVuSans-103\"/>\r\n      </defs>\r\n      <g transform=\"translate(323.409162 239.238437)scale(0.1 -0.1)\">\r\n       <use xlink:href=\"#DejaVuSans-39\"/>\r\n       <use x=\"27.490234\" xlink:href=\"#DejaVuSans-103\"/>\r\n       <use x=\"90.966797\" xlink:href=\"#DejaVuSans-97\"/>\r\n       <use x=\"152.246094\" xlink:href=\"#DejaVuSans-105\"/>\r\n       <use x=\"180.029297\" xlink:href=\"#DejaVuSans-110\"/>\r\n       <use x=\"243.408203\" xlink:href=\"#DejaVuSans-115\"/>\r\n       <use x=\"295.507812\" xlink:href=\"#DejaVuSans-116\"/>\r\n      </g>\r\n     </g>\r\n    </g>\r\n   </g>\r\n   <g id=\"matplotlib.axis_2\">\r\n    <g id=\"ytick_1\">\r\n     <g id=\"line2d_21\">\r\n      <defs>\r\n       <path d=\"M 0 0 \r\nL -3.5 0 \r\n\" id=\"mf23759b164\" style=\"stroke:#000000;stroke-width:0.8;\"/>\r\n      </defs>\r\n      <g>\r\n       <use style=\"stroke:#000000;stroke-width:0.8;\" x=\"20.5625\" xlink:href=\"#mf23759b164\" y=\"224.64\"/>\r\n      </g>\r\n     </g>\r\n     <g id=\"text_21\">\r\n      <!-- 0 -->\r\n      <defs>\r\n       <path d=\"M 31.78125 66.40625 \r\nQ 24.171875 66.40625 20.328125 58.90625 \r\nQ 16.5 51.421875 16.5 36.375 \r\nQ 16.5 21.390625 20.328125 13.890625 \r\nQ 24.171875 6.390625 31.78125 6.390625 \r\nQ 39.453125 6.390625 43.28125 13.890625 \r\nQ 47.125 21.390625 47.125 36.375 \r\nQ 47.125 51.421875 43.28125 58.90625 \r\nQ 39.453125 66.40625 31.78125 66.40625 \r\nz\r\nM 31.78125 74.21875 \r\nQ 44.046875 74.21875 50.515625 64.515625 \r\nQ 56.984375 54.828125 56.984375 36.375 \r\nQ 56.984375 17.96875 50.515625 8.265625 \r\nQ 44.046875 -1.421875 31.78125 -1.421875 \r\nQ 19.53125 -1.421875 13.0625 8.265625 \r\nQ 6.59375 17.96875 6.59375 36.375 \r\nQ 6.59375 54.828125 13.0625 64.515625 \r\nQ 19.53125 74.21875 31.78125 74.21875 \r\nz\r\n\" id=\"DejaVuSans-48\"/>\r\n      </defs>\r\n      <g transform=\"translate(7.2 228.439219)scale(0.1 -0.1)\">\r\n       <use xlink:href=\"#DejaVuSans-48\"/>\r\n      </g>\r\n     </g>\r\n    </g>\r\n    <g id=\"ytick_2\">\r\n     <g id=\"line2d_22\">\r\n      <g>\r\n       <use style=\"stroke:#000000;stroke-width:0.8;\" x=\"20.5625\" xlink:href=\"#mf23759b164\" y=\"183.222857\"/>\r\n      </g>\r\n     </g>\r\n     <g id=\"text_22\">\r\n      <!-- 1 -->\r\n      <defs>\r\n       <path d=\"M 12.40625 8.296875 \r\nL 28.515625 8.296875 \r\nL 28.515625 63.921875 \r\nL 10.984375 60.40625 \r\nL 10.984375 69.390625 \r\nL 28.421875 72.90625 \r\nL 38.28125 72.90625 \r\nL 38.28125 8.296875 \r\nL 54.390625 8.296875 \r\nL 54.390625 0 \r\nL 12.40625 0 \r\nz\r\n\" id=\"DejaVuSans-49\"/>\r\n      </defs>\r\n      <g transform=\"translate(7.2 187.022076)scale(0.1 -0.1)\">\r\n       <use xlink:href=\"#DejaVuSans-49\"/>\r\n      </g>\r\n     </g>\r\n    </g>\r\n    <g id=\"ytick_3\">\r\n     <g id=\"line2d_23\">\r\n      <g>\r\n       <use style=\"stroke:#000000;stroke-width:0.8;\" x=\"20.5625\" xlink:href=\"#mf23759b164\" y=\"141.805714\"/>\r\n      </g>\r\n     </g>\r\n     <g id=\"text_23\">\r\n      <!-- 2 -->\r\n      <defs>\r\n       <path d=\"M 19.1875 8.296875 \r\nL 53.609375 8.296875 \r\nL 53.609375 0 \r\nL 7.328125 0 \r\nL 7.328125 8.296875 \r\nQ 12.9375 14.109375 22.625 23.890625 \r\nQ 32.328125 33.6875 34.8125 36.53125 \r\nQ 39.546875 41.84375 41.421875 45.53125 \r\nQ 43.3125 49.21875 43.3125 52.78125 \r\nQ 43.3125 58.59375 39.234375 62.25 \r\nQ 35.15625 65.921875 28.609375 65.921875 \r\nQ 23.96875 65.921875 18.8125 64.3125 \r\nQ 13.671875 62.703125 7.8125 59.421875 \r\nL 7.8125 69.390625 \r\nQ 13.765625 71.78125 18.9375 73 \r\nQ 24.125 74.21875 28.421875 74.21875 \r\nQ 39.75 74.21875 46.484375 68.546875 \r\nQ 53.21875 62.890625 53.21875 53.421875 \r\nQ 53.21875 48.921875 51.53125 44.890625 \r\nQ 49.859375 40.875 45.40625 35.40625 \r\nQ 44.1875 33.984375 37.640625 27.21875 \r\nQ 31.109375 20.453125 19.1875 8.296875 \r\nz\r\n\" id=\"DejaVuSans-50\"/>\r\n      </defs>\r\n      <g transform=\"translate(7.2 145.604933)scale(0.1 -0.1)\">\r\n       <use xlink:href=\"#DejaVuSans-50\"/>\r\n      </g>\r\n     </g>\r\n    </g>\r\n    <g id=\"ytick_4\">\r\n     <g id=\"line2d_24\">\r\n      <g>\r\n       <use style=\"stroke:#000000;stroke-width:0.8;\" x=\"20.5625\" xlink:href=\"#mf23759b164\" y=\"100.388571\"/>\r\n      </g>\r\n     </g>\r\n     <g id=\"text_24\">\r\n      <!-- 3 -->\r\n      <defs>\r\n       <path d=\"M 40.578125 39.3125 \r\nQ 47.65625 37.796875 51.625 33 \r\nQ 55.609375 28.21875 55.609375 21.1875 \r\nQ 55.609375 10.40625 48.1875 4.484375 \r\nQ 40.765625 -1.421875 27.09375 -1.421875 \r\nQ 22.515625 -1.421875 17.65625 -0.515625 \r\nQ 12.796875 0.390625 7.625 2.203125 \r\nL 7.625 11.71875 \r\nQ 11.71875 9.328125 16.59375 8.109375 \r\nQ 21.484375 6.890625 26.8125 6.890625 \r\nQ 36.078125 6.890625 40.9375 10.546875 \r\nQ 45.796875 14.203125 45.796875 21.1875 \r\nQ 45.796875 27.640625 41.28125 31.265625 \r\nQ 36.765625 34.90625 28.71875 34.90625 \r\nL 20.21875 34.90625 \r\nL 20.21875 43.015625 \r\nL 29.109375 43.015625 \r\nQ 36.375 43.015625 40.234375 45.921875 \r\nQ 44.09375 48.828125 44.09375 54.296875 \r\nQ 44.09375 59.90625 40.109375 62.90625 \r\nQ 36.140625 65.921875 28.71875 65.921875 \r\nQ 24.65625 65.921875 20.015625 65.03125 \r\nQ 15.375 64.15625 9.8125 62.3125 \r\nL 9.8125 71.09375 \r\nQ 15.4375 72.65625 20.34375 73.4375 \r\nQ 25.25 74.21875 29.59375 74.21875 \r\nQ 40.828125 74.21875 47.359375 69.109375 \r\nQ 53.90625 64.015625 53.90625 55.328125 \r\nQ 53.90625 49.265625 50.4375 45.09375 \r\nQ 46.96875 40.921875 40.578125 39.3125 \r\nz\r\n\" id=\"DejaVuSans-51\"/>\r\n      </defs>\r\n      <g transform=\"translate(7.2 104.18779)scale(0.1 -0.1)\">\r\n       <use xlink:href=\"#DejaVuSans-51\"/>\r\n      </g>\r\n     </g>\r\n    </g>\r\n    <g id=\"ytick_5\">\r\n     <g id=\"line2d_25\">\r\n      <g>\r\n       <use style=\"stroke:#000000;stroke-width:0.8;\" x=\"20.5625\" xlink:href=\"#mf23759b164\" y=\"58.971429\"/>\r\n      </g>\r\n     </g>\r\n     <g id=\"text_25\">\r\n      <!-- 4 -->\r\n      <defs>\r\n       <path d=\"M 37.796875 64.3125 \r\nL 12.890625 25.390625 \r\nL 37.796875 25.390625 \r\nz\r\nM 35.203125 72.90625 \r\nL 47.609375 72.90625 \r\nL 47.609375 25.390625 \r\nL 58.015625 25.390625 \r\nL 58.015625 17.1875 \r\nL 47.609375 17.1875 \r\nL 47.609375 0 \r\nL 37.796875 0 \r\nL 37.796875 17.1875 \r\nL 4.890625 17.1875 \r\nL 4.890625 26.703125 \r\nz\r\n\" id=\"DejaVuSans-52\"/>\r\n      </defs>\r\n      <g transform=\"translate(7.2 62.770647)scale(0.1 -0.1)\">\r\n       <use xlink:href=\"#DejaVuSans-52\"/>\r\n      </g>\r\n     </g>\r\n    </g>\r\n    <g id=\"ytick_6\">\r\n     <g id=\"line2d_26\">\r\n      <g>\r\n       <use style=\"stroke:#000000;stroke-width:0.8;\" x=\"20.5625\" xlink:href=\"#mf23759b164\" y=\"17.554286\"/>\r\n      </g>\r\n     </g>\r\n     <g id=\"text_26\">\r\n      <!-- 5 -->\r\n      <defs>\r\n       <path d=\"M 10.796875 72.90625 \r\nL 49.515625 72.90625 \r\nL 49.515625 64.59375 \r\nL 19.828125 64.59375 \r\nL 19.828125 46.734375 \r\nQ 21.96875 47.46875 24.109375 47.828125 \r\nQ 26.265625 48.1875 28.421875 48.1875 \r\nQ 40.625 48.1875 47.75 41.5 \r\nQ 54.890625 34.8125 54.890625 23.390625 \r\nQ 54.890625 11.625 47.5625 5.09375 \r\nQ 40.234375 -1.421875 26.90625 -1.421875 \r\nQ 22.3125 -1.421875 17.546875 -0.640625 \r\nQ 12.796875 0.140625 7.71875 1.703125 \r\nL 7.71875 11.625 \r\nQ 12.109375 9.234375 16.796875 8.0625 \r\nQ 21.484375 6.890625 26.703125 6.890625 \r\nQ 35.15625 6.890625 40.078125 11.328125 \r\nQ 45.015625 15.765625 45.015625 23.390625 \r\nQ 45.015625 31 40.078125 35.4375 \r\nQ 35.15625 39.890625 26.703125 39.890625 \r\nQ 22.75 39.890625 18.8125 39.015625 \r\nQ 14.890625 38.140625 10.796875 36.28125 \r\nz\r\n\" id=\"DejaVuSans-53\"/>\r\n      </defs>\r\n      <g transform=\"translate(7.2 21.353504)scale(0.1 -0.1)\">\r\n       <use xlink:href=\"#DejaVuSans-53\"/>\r\n      </g>\r\n     </g>\r\n    </g>\r\n   </g>\r\n   <g id=\"patch_23\">\r\n    <path d=\"M 20.5625 224.64 \r\nL 20.5625 7.2 \r\n\" style=\"fill:none;stroke:#000000;stroke-linecap:square;stroke-linejoin:miter;stroke-width:0.8;\"/>\r\n   </g>\r\n   <g id=\"patch_24\">\r\n    <path d=\"M 355.3625 224.64 \r\nL 355.3625 7.2 \r\n\" style=\"fill:none;stroke:#000000;stroke-linecap:square;stroke-linejoin:miter;stroke-width:0.8;\"/>\r\n   </g>\r\n   <g id=\"patch_25\">\r\n    <path d=\"M 20.5625 224.64 \r\nL 355.3625 224.64 \r\n\" style=\"fill:none;stroke:#000000;stroke-linecap:square;stroke-linejoin:miter;stroke-width:0.8;\"/>\r\n   </g>\r\n   <g id=\"patch_26\">\r\n    <path d=\"M 20.5625 7.2 \r\nL 355.3625 7.2 \r\n\" style=\"fill:none;stroke:#000000;stroke-linecap:square;stroke-linejoin:miter;stroke-width:0.8;\"/>\r\n   </g>\r\n  </g>\r\n </g>\r\n <defs>\r\n  <clipPath id=\"p920342ac6a\">\r\n   <rect height=\"217.44\" width=\"334.8\" x=\"20.5625\" y=\"7.2\"/>\r\n  </clipPath>\r\n </defs>\r\n</svg>\r\n",
      "text/plain": "<Figure size 432x288 with 1 Axes>"
     },
     "metadata": {
      "needs_background": "light"
     },
     "output_type": "display_data"
    }
   ],
   "source": [
    "topfreq=L[:20]\n",
    "print (topfreq)\n",
    "pos = np.arange(len(topfreq))\n",
    "plt.bar(pos, [e[1] for e in topfreq]);\n",
    "plt.xticks(pos+0.4, [e[0] for e in topfreq]);"
   ]
  },
  {
   "cell_type": "code",
   "execution_count": null,
   "metadata": {},
   "outputs": [],
   "source": []
  }
 ],
 "metadata": {
  "kernelspec": {
   "display_name": "Python 3",
   "language": "python",
   "name": "python3"
  },
  "language_info": {
   "codemirror_mode": {
    "name": "ipython",
    "version": 2
   },
   "file_extension": ".py",
   "mimetype": "text/x-python",
   "name": "python",
   "nbconvert_exporter": "python",
   "pygments_lexer": "ipython2",
   "version": "3.7.4-final"
  }
 },
 "nbformat": 4,
 "nbformat_minor": 0
}